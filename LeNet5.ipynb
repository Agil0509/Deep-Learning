{
  "nbformat": 4,
  "nbformat_minor": 0,
  "metadata": {
    "colab": {
      "provenance": [],
      "authorship_tag": "ABX9TyPVLZMD/VquPTYtWnJSJ3O2",
      "include_colab_link": true
    },
    "kernelspec": {
      "name": "python3",
      "display_name": "Python 3"
    },
    "language_info": {
      "name": "python"
    }
  },
  "cells": [
    {
      "cell_type": "markdown",
      "metadata": {
        "id": "view-in-github",
        "colab_type": "text"
      },
      "source": [
        "<a href=\"https://colab.research.google.com/github/Agil0509/Deep-Learning/blob/main/LeNet5.ipynb\" target=\"_parent\"><img src=\"https://colab.research.google.com/assets/colab-badge.svg\" alt=\"Open In Colab\"/></a>"
      ]
    },
    {
      "cell_type": "code",
      "execution_count": 10,
      "metadata": {
        "id": "efollIbE_awh"
      },
      "outputs": [],
      "source": [
        "import tensorflow as tf\n",
        "import numpy as np\n",
        "import matplotlib.pyplot as plt"
      ]
    },
    {
      "cell_type": "code",
      "source": [
        "mnist = tf.keras.datasets.mnist\n",
        "(X_train,y_train),(X_test,y_test) = mnist.load_data()"
      ],
      "metadata": {
        "id": "eCAoRbK0_v50"
      },
      "execution_count": 11,
      "outputs": []
    },
    {
      "cell_type": "code",
      "source": [
        "X_train.shape"
      ],
      "metadata": {
        "colab": {
          "base_uri": "https://localhost:8080/"
        },
        "id": "RwocqnDJAkGh",
        "outputId": "4ebf2cbf-ee33-497c-ce9d-af2a02b8a7af"
      },
      "execution_count": 12,
      "outputs": [
        {
          "output_type": "execute_result",
          "data": {
            "text/plain": [
              "(60000, 28, 28)"
            ]
          },
          "metadata": {},
          "execution_count": 12
        }
      ]
    },
    {
      "cell_type": "code",
      "source": [
        "y_train.shape"
      ],
      "metadata": {
        "colab": {
          "base_uri": "https://localhost:8080/"
        },
        "id": "ana7WlMBAvM4",
        "outputId": "91c0b7ad-db67-4698-f06b-ecb5745596a5"
      },
      "execution_count": 24,
      "outputs": [
        {
          "output_type": "execute_result",
          "data": {
            "text/plain": [
              "(60000,)"
            ]
          },
          "metadata": {},
          "execution_count": 24
        }
      ]
    },
    {
      "cell_type": "code",
      "source": [
        "y_train[0]"
      ],
      "metadata": {
        "colab": {
          "base_uri": "https://localhost:8080/"
        },
        "id": "iBoj0gk2A6XW",
        "outputId": "6f6ed5ac-6b1a-405f-ed8d-4f5b878e7b59"
      },
      "execution_count": 14,
      "outputs": [
        {
          "output_type": "execute_result",
          "data": {
            "text/plain": [
              "5"
            ]
          },
          "metadata": {},
          "execution_count": 14
        }
      ]
    },
    {
      "cell_type": "code",
      "source": [
        "m1,h1,w1 = X_train.shape\n",
        "X_train = X_train.reshape(m1,h1,w1,1)\n",
        "\n",
        "m2,h2,w2 = X_test.shape\n",
        "X_test = X_test.reshape(m2,h2,w2,1)"
      ],
      "metadata": {
        "id": "iphWaEoVWK2a"
      },
      "execution_count": 15,
      "outputs": []
    },
    {
      "cell_type": "code",
      "source": [
        "X_train.shape"
      ],
      "metadata": {
        "colab": {
          "base_uri": "https://localhost:8080/"
        },
        "id": "TnB3JlaUWfKQ",
        "outputId": "a7177df6-9c48-491c-b2bb-20e468de04a5"
      },
      "execution_count": 16,
      "outputs": [
        {
          "output_type": "execute_result",
          "data": {
            "text/plain": [
              "(60000, 28, 28, 1)"
            ]
          },
          "metadata": {},
          "execution_count": 16
        }
      ]
    },
    {
      "cell_type": "code",
      "source": [
        "X_train = X_train/255\n",
        "X_test = X_test/255"
      ],
      "metadata": {
        "id": "ac1Zf5cvA-U7"
      },
      "execution_count": 17,
      "outputs": []
    },
    {
      "cell_type": "code",
      "source": [
        "plt.imshow(X_train[0],cmap = 'binary')\n",
        "plt.axis('off')"
      ],
      "metadata": {
        "colab": {
          "base_uri": "https://localhost:8080/",
          "height": 423
        },
        "id": "GT6_lSkeAIAA",
        "outputId": "d27d8431-0fbe-46d6-e02f-8a85d917de9d"
      },
      "execution_count": 18,
      "outputs": [
        {
          "output_type": "execute_result",
          "data": {
            "text/plain": [
              "(-0.5, 27.5, 27.5, -0.5)"
            ]
          },
          "metadata": {},
          "execution_count": 18
        },
        {
          "output_type": "display_data",
          "data": {
            "text/plain": [
              "<Figure size 640x480 with 1 Axes>"
            ],
            "image/png": "[encoded data removed]"
          },
          "metadata": {}
        }
      ]
    },
    {
      "cell_type": "markdown",
      "source": [
        "#LeNet Architecture"
      ],
      "metadata": {
        "id": "_bDiVMW8Dhr8"
      }
    },
    {
      "cell_type": "markdown",
      "source": [
        "![1_zxrGm9YBq__CPE3EUZKDOQ.webp](data:image/webp;base64,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)"
      ],
      "metadata": {
        "id": "2119auJxDcU0"
      }
    },
    {
      "cell_type": "code",
      "source": [
        "input_shape = (28,28,1)"
      ],
      "metadata": {
        "id": "Vr3s5KVBAMRp"
      },
      "execution_count": 19,
      "outputs": []
    },
    {
      "cell_type": "code",
      "source": [
        "def LeNet(input_shape):\n",
        "  model = tf.keras.Sequential()\n",
        "  model.add(tf.keras.layers.Conv2D(filters=6,kernel_size = (5,5),strides = (1,1), activation='tanh'))\n",
        "  model.add(tf.keras.layers.AveragePooling2D(pool_size=(2,2),strides=(2,2)))\n",
        "  model.add(tf.keras.layers.Conv2D(filters = 16, kernel_size = (5,5),strides = (1,1), activation='tanh'))\n",
        "  model.add(tf.keras.layers.AveragePooling2D(pool_size = (2,2), strides=(2,2)))\n",
        "  # model.add(tf.keras.layers.Conv2D(filters = 120, kernel_size = (1,1),strides = (1,1),activation = 'tanh'))\n",
        "  model.add(tf.keras.layers.Flatten())\n",
        "  model.add(tf.keras.layers.Dense(units = 84, activation = 'tanh'))\n",
        "  model.add(tf.keras.layers.Dense(units = 10, activation = 'softmax'))\n",
        "  model.compile(\n",
        "      loss = 'sparse_categorical_crossentropy',\n",
        "      optimizer = tf.keras.optimizers.SGD(learning_rate=0.001),\n",
        "      metrics = ['accuracy']\n",
        "  )\n",
        "  return model"
      ],
      "metadata": {
        "id": "XTKwej0zC26j"
      },
      "execution_count": 25,
      "outputs": []
    },
    {
      "cell_type": "code",
      "source": [
        "model = LeNet(input_shape)\n",
        "epochs = 10\n",
        "history = model.fit((X_train,y_train), epochs = epochs,\n",
        "                    validation_data= [X_test,y_test])"
      ],
      "metadata": {
        "colab": {
          "base_uri": "https://localhost:8080/"
        },
        "id": "XK8pC3tqHZRB",
        "outputId": "5000a140-907e-4006-8b39-a1b5d542b5fa"
      },
      "execution_count": 32,
      "outputs": [
        {
          "output_type": "stream",
          "name": "stdout",
          "text": [
            "Epoch 1/10\n",
            "\u001b[1m1875/1875\u001b[0m \u001b[32m━━━━━━━━━━━━━━━━━━━━\u001b[0m\u001b[37m\u001b[0m \u001b[1m31s\u001b[0m 16ms/step - accuracy: 0.2867 - loss: 2.1763 - val_accuracy: 0.6792 - val_loss: 1.4100\n",
            "Epoch 2/10\n",
            "\u001b[1m1875/1875\u001b[0m \u001b[32m━━━━━━━━━━━━━━━━━━━━\u001b[0m\u001b[37m\u001b[0m \u001b[1m37s\u001b[0m 20ms/step - accuracy: 0.7267 - loss: 1.2134 - val_accuracy: 0.8329 - val_loss: 0.7687\n",
            "Epoch 3/10\n",
            "\u001b[1m1875/1875\u001b[0m \u001b[32m━━━━━━━━━━━━━━━━━━━━\u001b[0m\u001b[37m\u001b[0m \u001b[1m34s\u001b[0m 16ms/step - accuracy: 0.8328 - loss: 0.7318 - val_accuracy: 0.8633 - val_loss: 0.5723\n",
            "Epoch 4/10\n",
            "\u001b[1m1875/1875\u001b[0m \u001b[32m━━━━━━━━━━━━━━━━━━━━\u001b[0m\u001b[37m\u001b[0m \u001b[1m40s\u001b[0m 16ms/step - accuracy: 0.8581 - loss: 0.5717 - val_accuracy: 0.8775 - val_loss: 0.4861\n",
            "Epoch 5/10\n",
            "\u001b[1m1875/1875\u001b[0m \u001b[32m━━━━━━━━━━━━━━━━━━━━\u001b[0m\u001b[37m\u001b[0m \u001b[1m31s\u001b[0m 16ms/step - accuracy: 0.8714 - loss: 0.4941 - val_accuracy: 0.8872 - val_loss: 0.4362\n",
            "Epoch 6/10\n",
            "\u001b[1m1875/1875\u001b[0m \u001b[32m━━━━━━━━━━━━━━━━━━━━\u001b[0m\u001b[37m\u001b[0m \u001b[1m30s\u001b[0m 16ms/step - accuracy: 0.8807 - loss: 0.4505 - val_accuracy: 0.8920 - val_loss: 0.4029\n",
            "Epoch 7/10\n",
            "\u001b[1m1875/1875\u001b[0m \u001b[32m━━━━━━━━━━━━━━━━━━━━\u001b[0m\u001b[37m\u001b[0m \u001b[1m40s\u001b[0m 16ms/step - accuracy: 0.8835 - loss: 0.4165 - val_accuracy: 0.8977 - val_loss: 0.3778\n",
            "Epoch 8/10\n",
            "\u001b[1m1875/1875\u001b[0m \u001b[32m━━━━━━━━━━━━━━━━━━━━\u001b[0m\u001b[37m\u001b[0m \u001b[1m41s\u001b[0m 16ms/step - accuracy: 0.8900 - loss: 0.3911 - val_accuracy: 0.9017 - val_loss: 0.3585\n",
            "Epoch 9/10\n",
            "\u001b[1m1875/1875\u001b[0m \u001b[32m━━━━━━━━━━━━━━━━━━━━\u001b[0m\u001b[37m\u001b[0m \u001b[1m42s\u001b[0m 16ms/step - accuracy: 0.8957 - loss: 0.3712 - val_accuracy: 0.9058 - val_loss: 0.3424\n",
            "Epoch 10/10\n",
            "\u001b[1m1875/1875\u001b[0m \u001b[32m━━━━━━━━━━━━━━━━━━━━\u001b[0m\u001b[37m\u001b[0m \u001b[1m29s\u001b[0m 16ms/step - accuracy: 0.8978 - loss: 0.3597 - val_accuracy: 0.9093 - val_loss: 0.3290\n"
          ]
        }
      ]
    },
    {
      "cell_type": "code",
      "source": [
        "model.evaluate(X_test,y_test)"
      ],
      "metadata": {
        "id": "OmKbY13-HlAD",
        "colab": {
          "base_uri": "https://localhost:8080/"
        },
        "outputId": "46c383b5-119c-4bf2-f172-60eac75dfd26"
      },
      "execution_count": 29,
      "outputs": [
        {
          "output_type": "stream",
          "name": "stdout",
          "text": [
            "\u001b[1m313/313\u001b[0m \u001b[32m━━━━━━━━━━━━━━━━━━━━\u001b[0m\u001b[37m\u001b[0m \u001b[1m3s\u001b[0m 9ms/step - accuracy: 0.8893 - loss: 0.3730\n"
          ]
        },
        {
          "output_type": "execute_result",
          "data": {
            "text/plain": [
              "[0.3357195258140564, 0.9050999879837036]"
            ]
          },
          "metadata": {},
          "execution_count": 29
        }
      ]
    },
    {
      "cell_type": "code",
      "source": [
        "plt.plot(history.history['accuracy'],label = 'Train')\n",
        "plt.plot(history.history['val_accuracy'],label = 'Test')\n",
        "plt.legend()"
      ],
      "metadata": {
        "colab": {
          "base_uri": "https://localhost:8080/",
          "height": 447
        },
        "id": "HFVg6HLMZeWd",
        "outputId": "92182e62-5c99-4831-f37c-67b0a0c4620c"
      },
      "execution_count": 34,
      "outputs": [
        {
          "output_type": "execute_result",
          "data": {
            "text/plain": [
              "<matplotlib.legend.Legend at 0x793b0e58e4d0>"
            ]
          },
          "metadata": {},
          "execution_count": 34
        },
        {
          "output_type": "display_data",
          "data": {
            "text/plain": [
              "<Figure size 640x480 with 1 Axes>"
            ],
            "image/png": "[encoded data removed]"
          },
          "metadata": {}
        }
      ]
    },
    {
      "cell_type": "code",
      "source": [
        "plt.imshow(X_test[0],cmap = 'binary')\n",
        "plt.axis('off');\n",
        "\n",
        "pred = model.predict(X_test[0].reshape(1,28,28,1))\n",
        "np.argmax(pred)"
      ],
      "metadata": {
        "colab": {
          "base_uri": "https://localhost:8080/",
          "height": 441
        },
        "id": "Brk724U3Z-Pw",
        "outputId": "ffc30f31-13f7-4b7c-ffaa-596db82bca26"
      },
      "execution_count": 41,
      "outputs": [
        {
          "output_type": "stream",
          "name": "stdout",
          "text": [
            "\u001b[1m1/1\u001b[0m \u001b[32m━━━━━━━━━━━━━━━━━━━━\u001b[0m\u001b[37m\u001b[0m \u001b[1m0s\u001b[0m 23ms/step\n"
          ]
        },
        {
          "output_type": "execute_result",
          "data": {
            "text/plain": [
              "7"
            ]
          },
          "metadata": {},
          "execution_count": 41
        },
        {
          "output_type": "display_data",
          "data": {
            "text/plain": [
              "<Figure size 640x480 with 1 Axes>"
            ],
            "image/png": "[encoded data removed]"
          },
          "metadata": {}
        }
      ]
    },
    {
      "cell_type": "code",
      "source": [],
      "metadata": {
        "id": "McR1PEh8cWim"
      },
      "execution_count": null,
      "outputs": []
    }
  ]
}