{
 "cells": [
  {
   "cell_type": "code",
   "execution_count": 57,
   "id": "9f5064bd-ead9-4447-a187-3999f6d0918a",
   "metadata": {},
   "outputs": [],
   "source": [
    "import tensorflow as tf\n",
    "import numpy as np\n",
    "from tensorflow import keras"
   ]
  },
  {
   "cell_type": "code",
   "execution_count": 58,
   "id": "33a2f92f-f6da-4616-b433-9a991ca2bc3b",
   "metadata": {},
   "outputs": [
    {
     "data": {
      "text/plain": [
       "['Constant',\n",
       " 'GlorotNormal',\n",
       " 'GlorotUniform',\n",
       " 'HeNormal',\n",
       " 'HeUniform',\n",
       " 'Identity',\n",
       " 'IdentityInitializer',\n",
       " 'Initializer',\n",
       " 'LecunNormal',\n",
       " 'LecunUniform',\n",
       " 'Ones',\n",
       " 'Orthogonal',\n",
       " 'OrthogonalInitializer',\n",
       " 'RandomNormal',\n",
       " 'RandomUniform',\n",
       " 'TruncatedNormal',\n",
       " 'VarianceScaling',\n",
       " 'Zeros',\n",
       " 'constant',\n",
       " 'deserialize',\n",
       " 'get',\n",
       " 'glorot_normal',\n",
       " 'glorot_uniform',\n",
       " 'he_normal',\n",
       " 'he_uniform',\n",
       " 'identity',\n",
       " 'lecun_normal',\n",
       " 'lecun_uniform',\n",
       " 'ones',\n",
       " 'orthogonal',\n",
       " 'random_normal',\n",
       " 'random_uniform',\n",
       " 'serialize',\n",
       " 'truncated_normal',\n",
       " 'variance_scaling',\n",
       " 'zeros']"
      ]
     },
     "execution_count": 58,
     "metadata": {},
     "output_type": "execute_result"
    }
   ],
   "source": [
    "[name for name in dir(keras.initializers) if not name.startswith('_')]"
   ]
  },
  {
   "cell_type": "markdown",
   "id": "ccff1bca-ea55-4d84-9887-62c7d02b8a44",
   "metadata": {},
   "source": [
    "# Nonsaturating Activation Functions"
   ]
  },
  {
   "cell_type": "code",
   "execution_count": 60,
   "id": "0f516637-2b8e-455c-8305-ae64f377f560",
   "metadata": {},
   "outputs": [],
   "source": [
    "dense = tf.keras.layers.Dense(50,activation = 'relu',\n",
    "                             kernel_initializer= 'he_normal')"
   ]
  },
  {
   "cell_type": "code",
   "execution_count": 61,
   "id": "0a2a91d4-6c23-44a9-928e-3449127d20ea",
   "metadata": {},
   "outputs": [],
   "source": [
    "leaky_relu = tf.keras.layers.LeakyReLU(alpha = 0.2)\n",
    "dense = tf.keras.layers.Dense(50,activation = leaky_relu,\n",
    "                             kernel_initializer = 'he_normal')"
   ]
  },
  {
   "cell_type": "code",
   "execution_count": 62,
   "id": "89604990-ec5a-457c-b41f-1e94def24075",
   "metadata": {},
   "outputs": [],
   "source": [
    "model = tf.keras.Sequential([\n",
    "    tf.keras.layers.Dense(50,kernel_initializer='he_normal'),\n",
    "    tf.keras.layers.LeakyReLU(alpha = 0.2)\n",
    "])"
   ]
  },
  {
   "cell_type": "code",
   "execution_count": 63,
   "id": "6a5d011e-d836-46a5-8eeb-e1fad8fa16e7",
   "metadata": {},
   "outputs": [],
   "source": [
    "dense = tf.keras.layers.Dense(50,activation = 'elu',\n",
    "                             kernel_initializer = 'he_normal')"
   ]
  },
  {
   "cell_type": "code",
   "execution_count": 64,
   "id": "23de366e-75a7-4862-9915-cfc250e763a6",
   "metadata": {},
   "outputs": [],
   "source": [
    "dense = tf.keras.layers.Dense(50,activation = 'selu',\n",
    "                              kernel_initializer = 'lecun_normal')"
   ]
  },
  {
   "cell_type": "code",
   "execution_count": 65,
   "id": "120518d2-1cc1-49ec-bad5-cb1e360aa3ee",
   "metadata": {},
   "outputs": [],
   "source": [
    "tf.random.set_seed(42)\n",
    "model = tf.keras.Sequential()\n",
    "model.add(tf.keras.layers.Flatten(input_shape = [28,28]))\n",
    "for layer in range(100):\n",
    "    model.add(tf.keras.layers.Dense(50,activation = 'selu',\n",
    "                                   kernel_initializer= 'lecun_normal'))\n",
    "\n",
    "model.add(tf.keras.layers.Dense(10,activation = 'softmax'))"
   ]
  },
  {
   "cell_type": "code",
   "execution_count": 66,
   "id": "972549f9-dfe5-49c7-999a-fe05f5f300ae",
   "metadata": {},
   "outputs": [],
   "source": [
    "model.compile(loss = 'sparse_categorical_crossentropy',\n",
    "             optimizer = tf.keras.optimizers.SGD(learning_rate = 1e-3),\n",
    "             metrics=['accuracy'])"
   ]
  },
  {
   "cell_type": "code",
   "execution_count": 67,
   "id": "6191c6d7-c60a-4b39-9fdb-bf45ddc76548",
   "metadata": {},
   "outputs": [],
   "source": [
    "fashion_mnist = tf.keras.datasets.fashion_mnist.load_data()\n",
    "(X_train_full, y_train_full), (X_test, y_test) = fashion_mnist\n",
    "X_train, y_train = X_train_full[:-5000], y_train_full[:-5000]\n",
    "X_valid, y_valid = X_train_full[-5000:], y_train_full[-5000:]\n",
    "X_train, X_valid, X_test = X_train / 255, X_valid / 255, X_test / 255"
   ]
  },
  {
   "cell_type": "code",
   "execution_count": 68,
   "id": "1b78d99e-2246-4ab4-b5e7-995a0c0b508a",
   "metadata": {},
   "outputs": [],
   "source": [
    "class_names = [\"T-shirt/top\", \"Trouser\", \"Pullover\", \"Dress\", \"Coat\",\n",
    "               \"Sandal\", \"Shirt\", \"Sneaker\", \"Bag\", \"Ankle boot\"]"
   ]
  },
  {
   "cell_type": "code",
   "execution_count": 69,
   "id": "13b704cf-8829-4683-ad4f-558f44e2da53",
   "metadata": {},
   "outputs": [],
   "source": [
    "pixel_means = X_train.mean(axis = 0, keepdims = True)\n",
    "pixel_stds = X_train.std(axis = 0, keepdims = True)\n",
    "X_train_scaled = (X_train-pixel_means)/pixel_stds\n",
    "X_test_scaled = (X_test-pixel_means)/pixel_stds\n",
    "X_valid_scaled = (X_valid - pixel_means)/pixel_stds"
   ]
  },
  {
   "cell_type": "code",
   "execution_count": 70,
   "id": "540822f9-275f-438f-8d00-8fae000ad15d",
   "metadata": {},
   "outputs": [],
   "source": [
    "model = tf.keras.Sequential()\n",
    "model.add(tf.keras.layers.Flatten(input_shape = [28,28]))\n",
    "for layer in range(100):\n",
    "    model.add(tf.keras.layers.Dense(50,activation = 'relu',\n",
    "                                   kernel_initializer='he_normal'))\n",
    "\n",
    "model.add(tf.keras.layers.Dense(10,activation = 'softmax'))"
   ]
  },
  {
   "cell_type": "code",
   "execution_count": 71,
   "id": "e6b88b3a-3316-49db-a9e6-3eb797365201",
   "metadata": {},
   "outputs": [],
   "source": [
    "model.compile(loss = 'sparse_categorical_crossentropy',\n",
    "             optimizer = tf.keras.optimizers.SGD(learning_rate = 1e-3),\n",
    "             metrics = ['accuracy'])"
   ]
  },
  {
   "cell_type": "code",
   "execution_count": 72,
   "id": "75902d8e-6cde-4e88-92d5-9911f52ad762",
   "metadata": {},
   "outputs": [
    {
     "name": "stdout",
     "output_type": "stream",
     "text": [
      "Epoch 1/10\n",
      "\u001b[1m1719/1719\u001b[0m \u001b[32m━━━━━━━━━━━━━━━━━━━━\u001b[0m\u001b[37m\u001b[0m \u001b[1m32s\u001b[0m 12ms/step - accuracy: 0.1423 - loss: 2.2388 - val_accuracy: 0.2236 - val_loss: 2.0057\n",
      "Epoch 2/10\n",
      "\u001b[1m1719/1719\u001b[0m \u001b[32m━━━━━━━━━━━━━━━━━━━━\u001b[0m\u001b[37m\u001b[0m \u001b[1m19s\u001b[0m 11ms/step - accuracy: 0.2612 - loss: 1.8971 - val_accuracy: 0.3950 - val_loss: 1.2998\n",
      "Epoch 3/10\n",
      "\u001b[1m1719/1719\u001b[0m \u001b[32m━━━━━━━━━━━━━━━━━━━━\u001b[0m\u001b[37m\u001b[0m \u001b[1m21s\u001b[0m 12ms/step - accuracy: 0.4524 - loss: 1.2443 - val_accuracy: 0.5894 - val_loss: 1.0151\n",
      "Epoch 4/10\n",
      "\u001b[1m1719/1719\u001b[0m \u001b[32m━━━━━━━━━━━━━━━━━━━━\u001b[0m\u001b[37m\u001b[0m \u001b[1m19s\u001b[0m 11ms/step - accuracy: 0.5515 - loss: 1.0399 - val_accuracy: 0.4650 - val_loss: 1.2862\n",
      "Epoch 5/10\n",
      "\u001b[1m1719/1719\u001b[0m \u001b[32m━━━━━━━━━━━━━━━━━━━━\u001b[0m\u001b[37m\u001b[0m \u001b[1m20s\u001b[0m 12ms/step - accuracy: 0.5338 - loss: 1.1041 - val_accuracy: 0.6288 - val_loss: 0.9527\n",
      "Epoch 6/10\n",
      "\u001b[1m1719/1719\u001b[0m \u001b[32m━━━━━━━━━━━━━━━━━━━━\u001b[0m\u001b[37m\u001b[0m \u001b[1m21s\u001b[0m 12ms/step - accuracy: 0.6187 - loss: 0.9558 - val_accuracy: 0.5676 - val_loss: 1.0203\n",
      "Epoch 7/10\n",
      "\u001b[1m1719/1719\u001b[0m \u001b[32m━━━━━━━━━━━━━━━━━━━━\u001b[0m\u001b[37m\u001b[0m \u001b[1m20s\u001b[0m 12ms/step - accuracy: 0.6232 - loss: 0.9562 - val_accuracy: 0.6666 - val_loss: 0.8665\n",
      "Epoch 8/10\n",
      "\u001b[1m1719/1719\u001b[0m \u001b[32m━━━━━━━━━━━━━━━━━━━━\u001b[0m\u001b[37m\u001b[0m \u001b[1m20s\u001b[0m 11ms/step - accuracy: 0.6869 - loss: 0.8120 - val_accuracy: 0.7080 - val_loss: 0.7800\n",
      "Epoch 9/10\n",
      "\u001b[1m1719/1719\u001b[0m \u001b[32m━━━━━━━━━━━━━━━━━━━━\u001b[0m\u001b[37m\u001b[0m \u001b[1m19s\u001b[0m 11ms/step - accuracy: 0.7021 - loss: 0.7835 - val_accuracy: 0.7162 - val_loss: 0.7699\n",
      "Epoch 10/10\n",
      "\u001b[1m1719/1719\u001b[0m \u001b[32m━━━━━━━━━━━━━━━━━━━━\u001b[0m\u001b[37m\u001b[0m \u001b[1m18s\u001b[0m 11ms/step - accuracy: 0.6894 - loss: 0.8423 - val_accuracy: 0.7136 - val_loss: 0.7577\n"
     ]
    }
   ],
   "source": [
    "history = model.fit(X_train_scaled,y_train,epochs = 10,\n",
    "                   validation_data = (X_valid_scaled,y_valid))"
   ]
  },
  {
   "cell_type": "markdown",
   "id": "9e6f4fb8-8aa0-4b01-82f8-df438dbf3e5d",
   "metadata": {},
   "source": [
    "# Batch Normalization"
   ]
  },
  {
   "cell_type": "code",
   "execution_count": 74,
   "id": "785b1ae7-522a-405e-9bef-d06869a3e3e0",
   "metadata": {},
   "outputs": [],
   "source": [
    "model = tf.keras.Sequential([\n",
    "    tf.keras.layers.Flatten(input_shape = [28,28]),\n",
    "    tf.keras.layers.BatchNormalization(),\n",
    "    tf.keras.layers.Dense(300,activation = 'relu',\n",
    "                         kernel_initializer='he_normal'),\n",
    "    tf.keras.layers.BatchNormalization(),\n",
    "    tf.keras.layers.Dense(100,activation = 'relu',\n",
    "                         kernel_initializer='he_normal'),\n",
    "    tf.keras.layers.BatchNormalization(),\n",
    "    tf.keras.layers.Dense(10,activation = 'softmax')\n",
    "])"
   ]
  },
  {
   "cell_type": "code",
   "execution_count": 75,
   "id": "43b06248-c40c-4e5e-95ce-1c3d5fc5d730",
   "metadata": {},
   "outputs": [],
   "source": [
    "model.compile(loss = 'sparse_categorical_crossentropy',\n",
    "             optimizer = tf.keras.optimizers.SGD(learning_rate = 1e-3),\n",
    "             metrics = ['accuracy'])"
   ]
  },
  {
   "cell_type": "code",
   "execution_count": 76,
   "id": "87d72788-5d85-425d-b3cc-5e0b38746cb9",
   "metadata": {},
   "outputs": [
    {
     "name": "stdout",
     "output_type": "stream",
     "text": [
      "Epoch 1/2\n",
      "\u001b[1m1719/1719\u001b[0m \u001b[32m━━━━━━━━━━━━━━━━━━━━\u001b[0m\u001b[37m\u001b[0m \u001b[1m11s\u001b[0m 5ms/step - accuracy: 0.5588 - loss: 1.3383 - val_accuracy: 0.7808 - val_loss: 0.6327\n",
      "Epoch 2/2\n",
      "\u001b[1m1719/1719\u001b[0m \u001b[32m━━━━━━━━━━━━━━━━━━━━\u001b[0m\u001b[37m\u001b[0m \u001b[1m8s\u001b[0m 4ms/step - accuracy: 0.7760 - loss: 0.6483 - val_accuracy: 0.8116 - val_loss: 0.5337\n"
     ]
    }
   ],
   "source": [
    "history = model.fit(X_train_scaled,y_train,epochs = 2,\n",
    "                   validation_data = (X_valid_scaled,y_valid))"
   ]
  },
  {
   "cell_type": "code",
   "execution_count": 77,
   "id": "17c2e715-7439-4226-8f07-03355c5c7feb",
   "metadata": {},
   "outputs": [],
   "source": [
    "model = tf.keras.Sequential([\n",
    "    tf.keras.layers.Flatten(input_shape = [28,28]),\n",
    "    tf.keras.layers.Dense(300,kernel_initializer = 'he_normal'),\n",
    "    tf.keras.layers.BatchNormalization(),\n",
    "    tf.keras.layers.Activation('relu'),\n",
    "    tf.keras.layers.Dense(100,kernel_initializer = 'he_normal'),\n",
    "    tf.keras.layers.BatchNormalization(),\n",
    "    tf.keras.layers.Activation('relu'),\n",
    "    tf.keras.layers.Dense(10),\n",
    "    tf.keras.layers.BatchNormalization(),\n",
    "    tf.keras.layers.Activation('softmax')\n",
    "])"
   ]
  },
  {
   "cell_type": "code",
   "execution_count": 78,
   "id": "4a5dd512-30d0-43a1-844e-29285515b4ac",
   "metadata": {},
   "outputs": [],
   "source": [
    "model.compile(loss = 'sparse_categorical_crossentropy',\n",
    "             optimizer = tf.keras.optimizers.SGD(learning_rate = 1e-3),\n",
    "             metrics = ['accuracy'])"
   ]
  },
  {
   "cell_type": "code",
   "execution_count": 79,
   "id": "d620fa76-84de-41a6-9c40-51ce987aa634",
   "metadata": {},
   "outputs": [
    {
     "name": "stdout",
     "output_type": "stream",
     "text": [
      "Epoch 1/2\n",
      "\u001b[1m1719/1719\u001b[0m \u001b[32m━━━━━━━━━━━━━━━━━━━━\u001b[0m\u001b[37m\u001b[0m \u001b[1m10s\u001b[0m 4ms/step - accuracy: 0.5291 - loss: 1.4864 - val_accuracy: 0.7610 - val_loss: 0.9080\n",
      "Epoch 2/2\n",
      "\u001b[1m1719/1719\u001b[0m \u001b[32m━━━━━━━━━━━━━━━━━━━━\u001b[0m\u001b[37m\u001b[0m \u001b[1m7s\u001b[0m 4ms/step - accuracy: 0.7405 - loss: 0.9680 - val_accuracy: 0.7940 - val_loss: 0.7630\n"
     ]
    }
   ],
   "source": [
    "history = model.fit(X_train_scaled,y_train,epochs = 2,\n",
    "                   validation_data = (X_valid_scaled,y_valid))"
   ]
  },
  {
   "cell_type": "markdown",
   "id": "c8034581-2202-4400-9356-0fa5cc105e67",
   "metadata": {},
   "source": [
    "# Gardient Clipping"
   ]
  },
  {
   "cell_type": "code",
   "execution_count": 81,
   "id": "c451cde8-02ee-47b3-a125-06863b488b1c",
   "metadata": {},
   "outputs": [],
   "source": [
    "optimizer = tf.keras.optimizers.SGD(clipvalue = 1)\n",
    "model.compile(loss = 'sparse_cateorical_crossentropy',optimizer = optimizer)"
   ]
  },
  {
   "cell_type": "code",
   "execution_count": 82,
   "id": "76b1f506-205c-4288-b8ea-31dc8f4b54dd",
   "metadata": {},
   "outputs": [],
   "source": [
    "optimizer = tf.keras.optimizers.SGD(clipnorm = 1)\n",
    "model.compile(loss = 'sparse_cateorical_crossentropy',optimizer = optimizer)"
   ]
  },
  {
   "cell_type": "markdown",
   "id": "4722a378-a6fc-4a82-84ca-5b241b363602",
   "metadata": {},
   "source": [
    "# Transfer Learning"
   ]
  },
  {
   "cell_type": "code",
   "execution_count": 84,
   "id": "5e882ca5-4311-4cde-9338-7c3f47599f5b",
   "metadata": {},
   "outputs": [],
   "source": [
    "pos_class_id = class_names.index(\"Pullover\")\n",
    "neg_class_id = class_names.index(\"T-shirt/top\")\n",
    "\n",
    "def split_dataset(X, y):\n",
    "    y_for_B = (y == pos_class_id) | (y == neg_class_id)\n",
    "    y_A = y[~y_for_B]\n",
    "    y_B = (y[y_for_B] == pos_class_id).astype(np.float32)\n",
    "    old_class_ids = list(set(range(10)) - set([neg_class_id, pos_class_id]))\n",
    "    for old_class_id, new_class_id in zip(old_class_ids, range(8)):\n",
    "        y_A[y_A == old_class_id] = new_class_id  # reorder class ids for A\n",
    "    return ((X[~y_for_B], y_A), (X[y_for_B], y_B))\n",
    "\n",
    "(X_train_A, y_train_A), (X_train_B, y_train_B) = split_dataset(X_train, y_train)\n",
    "(X_valid_A, y_valid_A), (X_valid_B, y_valid_B) = split_dataset(X_valid, y_valid)\n",
    "(X_test_A, y_test_A), (X_test_B, y_test_B) = split_dataset(X_test, y_test)\n",
    "X_train_B = X_train_B[:200]\n",
    "y_train_B = y_train_B[:200]\n",
    "\n",
    "model_A = tf.keras.Sequential([\n",
    "    tf.keras.layers.Flatten(input_shape = [28,28]),\n",
    "    tf.keras.layers.Dense(100,activation = 'relu',\n",
    "                         kernel_initializer = 'he_normal'),\n",
    "    tf.keras.layers.Dense(100,activation = 'relu',\n",
    "                         kernel_initializer = 'he_normal'),\n",
    "    tf.keras.layers.Dense(100,activation = 'relu',\n",
    "                         kernel_initializer = 'he_normal'),\n",
    "    tf.keras.layers.Dense(8,activation = 'softmax')\n",
    "])\n"
   ]
  },
  {
   "cell_type": "code",
   "execution_count": 85,
   "id": "4f7daa81-a3e3-4f96-a0bf-1d19b735b351",
   "metadata": {},
   "outputs": [],
   "source": [
    "model_A.compile(loss = 'sparse_categorical_crossentropy',\n",
    "             optimizer = tf.keras.optimizers.SGD(learning_rate = 1e-3),\n",
    "             metrics = ['accuracy'])"
   ]
  },
  {
   "cell_type": "code",
   "execution_count": 86,
   "id": "e171f656-3827-4b09-b910-4c0bbcdf644b",
   "metadata": {},
   "outputs": [
    {
     "name": "stdout",
     "output_type": "stream",
     "text": [
      "Epoch 1/10\n",
      "\u001b[1m1376/1376\u001b[0m \u001b[32m━━━━━━━━━━━━━━━━━━━━\u001b[0m\u001b[37m\u001b[0m \u001b[1m4s\u001b[0m 3ms/step - accuracy: 0.4308 - loss: 1.6578 - val_accuracy: 0.7626 - val_loss: 0.7252\n",
      "Epoch 2/10\n",
      "\u001b[1m1376/1376\u001b[0m \u001b[32m━━━━━━━━━━━━━━━━━━━━\u001b[0m\u001b[37m\u001b[0m \u001b[1m3s\u001b[0m 2ms/step - accuracy: 0.7828 - loss: 0.6657 - val_accuracy: 0.8260 - val_loss: 0.5267\n",
      "Epoch 3/10\n",
      "\u001b[1m1376/1376\u001b[0m \u001b[32m━━━━━━━━━━━━━━━━━━━━\u001b[0m\u001b[37m\u001b[0m \u001b[1m4s\u001b[0m 3ms/step - accuracy: 0.8369 - loss: 0.5099 - val_accuracy: 0.8556 - val_loss: 0.4463\n",
      "Epoch 4/10\n",
      "\u001b[1m1376/1376\u001b[0m \u001b[32m━━━━━━━━━━━━━━━━━━━━\u001b[0m\u001b[37m\u001b[0m \u001b[1m3s\u001b[0m 2ms/step - accuracy: 0.8588 - loss: 0.4374 - val_accuracy: 0.8666 - val_loss: 0.4001\n",
      "Epoch 5/10\n",
      "\u001b[1m1376/1376\u001b[0m \u001b[32m━━━━━━━━━━━━━━━━━━━━\u001b[0m\u001b[37m\u001b[0m \u001b[1m3s\u001b[0m 2ms/step - accuracy: 0.8718 - loss: 0.3939 - val_accuracy: 0.8739 - val_loss: 0.3706\n",
      "Epoch 6/10\n",
      "\u001b[1m1376/1376\u001b[0m \u001b[32m━━━━━━━━━━━━━━━━━━━━\u001b[0m\u001b[37m\u001b[0m \u001b[1m4s\u001b[0m 3ms/step - accuracy: 0.8789 - loss: 0.3647 - val_accuracy: 0.8777 - val_loss: 0.3501\n",
      "Epoch 7/10\n",
      "\u001b[1m1376/1376\u001b[0m \u001b[32m━━━━━━━━━━━━━━━━━━━━\u001b[0m\u001b[37m\u001b[0m \u001b[1m3s\u001b[0m 2ms/step - accuracy: 0.8845 - loss: 0.3437 - val_accuracy: 0.8842 - val_loss: 0.3353\n",
      "Epoch 8/10\n",
      "\u001b[1m1376/1376\u001b[0m \u001b[32m━━━━━━━━━━━━━━━━━━━━\u001b[0m\u001b[37m\u001b[0m \u001b[1m4s\u001b[0m 3ms/step - accuracy: 0.8902 - loss: 0.3277 - val_accuracy: 0.8882 - val_loss: 0.3238\n",
      "Epoch 9/10\n",
      "\u001b[1m1376/1376\u001b[0m \u001b[32m━━━━━━━━━━━━━━━━━━━━\u001b[0m\u001b[37m\u001b[0m \u001b[1m3s\u001b[0m 2ms/step - accuracy: 0.8942 - loss: 0.3148 - val_accuracy: 0.8917 - val_loss: 0.3147\n",
      "Epoch 10/10\n",
      "\u001b[1m1376/1376\u001b[0m \u001b[32m━━━━━━━━━━━━━━━━━━━━\u001b[0m\u001b[37m\u001b[0m \u001b[1m3s\u001b[0m 3ms/step - accuracy: 0.8978 - loss: 0.3042 - val_accuracy: 0.8935 - val_loss: 0.3071\n"
     ]
    }
   ],
   "source": [
    "history = model_A.fit(X_train_A,y_train_A,epochs = 10,\n",
    "                     validation_data = (X_valid_A,y_valid_A))"
   ]
  },
  {
   "cell_type": "code",
   "execution_count": 87,
   "id": "ca11a5a5-be5a-4454-b4f0-e1b46ba434a0",
   "metadata": {},
   "outputs": [],
   "source": [
    "model_A.save('my_model_A.keras')"
   ]
  },
  {
   "cell_type": "code",
   "execution_count": 88,
   "id": "fe549c9e-55bc-4d32-bc41-17b780b944ae",
   "metadata": {},
   "outputs": [],
   "source": [
    "model_B = tf.keras.Sequential([\n",
    "    tf.keras.layers.Flatten(input_shape = [28,28]),\n",
    "    tf.keras.layers.Dense(100,activation = 'relu',kernel_initializer = 'he_normal'),\n",
    "    tf.keras.layers.Dense(100,activation = 'relu',kernel_initializer  = 'he_normal'),\n",
    "    tf.keras.layers.Dense(100,activation = 'relu',kernel_initializer = 'he_normal'),\n",
    "    tf.keras.layers.Dense(1,activation = 'sigmoid')\n",
    "])"
   ]
  },
  {
   "cell_type": "code",
   "execution_count": 89,
   "id": "29f4d029-29b4-482c-9144-ad1cab5130bf",
   "metadata": {},
   "outputs": [],
   "source": [
    "model_B.compile(loss = 'binary_crossentropy',\n",
    "             optimizer = tf.keras.optimizers.SGD(learning_rate = 1e-3),\n",
    "             metrics = ['accuracy'])"
   ]
  },
  {
   "cell_type": "code",
   "execution_count": 90,
   "id": "ddb780e7-0eba-4d24-8581-0f24d779221f",
   "metadata": {},
   "outputs": [
    {
     "name": "stdout",
     "output_type": "stream",
     "text": [
      "Epoch 1/20\n",
      "\u001b[1m7/7\u001b[0m \u001b[32m━━━━━━━━━━━━━━━━━━━━\u001b[0m\u001b[37m\u001b[0m \u001b[1m2s\u001b[0m 78ms/step - accuracy: 0.4430 - loss: 0.7409 - val_accuracy: 0.5173 - val_loss: 0.6881\n",
      "Epoch 2/20\n",
      "\u001b[1m7/7\u001b[0m \u001b[32m━━━━━━━━━━━━━━━━━━━━\u001b[0m\u001b[37m\u001b[0m \u001b[1m0s\u001b[0m 21ms/step - accuracy: 0.5002 - loss: 0.6915 - val_accuracy: 0.5915 - val_loss: 0.6541\n",
      "Epoch 3/20\n",
      "\u001b[1m7/7\u001b[0m \u001b[32m━━━━━━━━━━━━━━━━━━━━\u001b[0m\u001b[37m\u001b[0m \u001b[1m0s\u001b[0m 19ms/step - accuracy: 0.6072 - loss: 0.6517 - val_accuracy: 0.6894 - val_loss: 0.6265\n",
      "Epoch 4/20\n",
      "\u001b[1m7/7\u001b[0m \u001b[32m━━━━━━━━━━━━━━━━━━━━\u001b[0m\u001b[37m\u001b[0m \u001b[1m0s\u001b[0m 18ms/step - accuracy: 0.7151 - loss: 0.6197 - val_accuracy: 0.7844 - val_loss: 0.6033\n",
      "Epoch 5/20\n",
      "\u001b[1m7/7\u001b[0m \u001b[32m━━━━━━━━━━━━━━━━━━━━\u001b[0m\u001b[37m\u001b[0m \u001b[1m0s\u001b[0m 21ms/step - accuracy: 0.8328 - loss: 0.5933 - val_accuracy: 0.8229 - val_loss: 0.5832\n",
      "Epoch 6/20\n",
      "\u001b[1m7/7\u001b[0m \u001b[32m━━━━━━━━━━━━━━━━━━━━\u001b[0m\u001b[37m\u001b[0m \u001b[1m0s\u001b[0m 20ms/step - accuracy: 0.8463 - loss: 0.5706 - val_accuracy: 0.8536 - val_loss: 0.5653\n",
      "Epoch 7/20\n",
      "\u001b[1m7/7\u001b[0m \u001b[32m━━━━━━━━━━━━━━━━━━━━\u001b[0m\u001b[37m\u001b[0m \u001b[1m0s\u001b[0m 21ms/step - accuracy: 0.8776 - loss: 0.5505 - val_accuracy: 0.8734 - val_loss: 0.5488\n",
      "Epoch 8/20\n",
      "\u001b[1m7/7\u001b[0m \u001b[32m━━━━━━━━━━━━━━━━━━━━\u001b[0m\u001b[37m\u001b[0m \u001b[1m0s\u001b[0m 18ms/step - accuracy: 0.8757 - loss: 0.5327 - val_accuracy: 0.8813 - val_loss: 0.5339\n",
      "Epoch 9/20\n",
      "\u001b[1m7/7\u001b[0m \u001b[32m━━━━━━━━━━━━━━━━━━━━\u001b[0m\u001b[37m\u001b[0m \u001b[1m0s\u001b[0m 18ms/step - accuracy: 0.8992 - loss: 0.5168 - val_accuracy: 0.8912 - val_loss: 0.5201\n",
      "Epoch 10/20\n",
      "\u001b[1m7/7\u001b[0m \u001b[32m━━━━━━━━━━━━━━━━━━━━\u001b[0m\u001b[37m\u001b[0m \u001b[1m0s\u001b[0m 19ms/step - accuracy: 0.9157 - loss: 0.5023 - val_accuracy: 0.8971 - val_loss: 0.5071\n",
      "Epoch 11/20\n",
      "\u001b[1m7/7\u001b[0m \u001b[32m━━━━━━━━━━━━━━━━━━━━\u001b[0m\u001b[37m\u001b[0m \u001b[1m0s\u001b[0m 21ms/step - accuracy: 0.9220 - loss: 0.4890 - val_accuracy: 0.9011 - val_loss: 0.4950\n",
      "Epoch 12/20\n",
      "\u001b[1m7/7\u001b[0m \u001b[32m━━━━━━━━━━━━━━━━━━━━\u001b[0m\u001b[37m\u001b[0m \u001b[1m0s\u001b[0m 18ms/step - accuracy: 0.9289 - loss: 0.4766 - val_accuracy: 0.9070 - val_loss: 0.4836\n",
      "Epoch 13/20\n",
      "\u001b[1m7/7\u001b[0m \u001b[32m━━━━━━━━━━━━━━━━━━━━\u001b[0m\u001b[37m\u001b[0m \u001b[1m0s\u001b[0m 18ms/step - accuracy: 0.9397 - loss: 0.4648 - val_accuracy: 0.9100 - val_loss: 0.4728\n",
      "Epoch 14/20\n",
      "\u001b[1m7/7\u001b[0m \u001b[32m━━━━━━━━━━━━━━━━━━━━\u001b[0m\u001b[37m\u001b[0m \u001b[1m0s\u001b[0m 19ms/step - accuracy: 0.9397 - loss: 0.4536 - val_accuracy: 0.9130 - val_loss: 0.4625\n",
      "Epoch 15/20\n",
      "\u001b[1m7/7\u001b[0m \u001b[32m━━━━━━━━━━━━━━━━━━━━\u001b[0m\u001b[37m\u001b[0m \u001b[1m0s\u001b[0m 19ms/step - accuracy: 0.9397 - loss: 0.4431 - val_accuracy: 0.9149 - val_loss: 0.4528\n",
      "Epoch 16/20\n",
      "\u001b[1m7/7\u001b[0m \u001b[32m━━━━━━━━━━━━━━━━━━━━\u001b[0m\u001b[37m\u001b[0m \u001b[1m0s\u001b[0m 20ms/step - accuracy: 0.9397 - loss: 0.4330 - val_accuracy: 0.9179 - val_loss: 0.4434\n",
      "Epoch 17/20\n",
      "\u001b[1m7/7\u001b[0m \u001b[32m━━━━━━━━━━━━━━━━━━━━\u001b[0m\u001b[37m\u001b[0m \u001b[1m0s\u001b[0m 20ms/step - accuracy: 0.9397 - loss: 0.4233 - val_accuracy: 0.9189 - val_loss: 0.4344\n",
      "Epoch 18/20\n",
      "\u001b[1m7/7\u001b[0m \u001b[32m━━━━━━━━━━━━━━━━━━━━\u001b[0m\u001b[37m\u001b[0m \u001b[1m0s\u001b[0m 17ms/step - accuracy: 0.9397 - loss: 0.4139 - val_accuracy: 0.9209 - val_loss: 0.4258\n",
      "Epoch 19/20\n",
      "\u001b[1m7/7\u001b[0m \u001b[32m━━━━━━━━━━━━━━━━━━━━\u001b[0m\u001b[37m\u001b[0m \u001b[1m0s\u001b[0m 20ms/step - accuracy: 0.9397 - loss: 0.4049 - val_accuracy: 0.9219 - val_loss: 0.4175\n",
      "Epoch 20/20\n",
      "\u001b[1m7/7\u001b[0m \u001b[32m━━━━━━━━━━━━━━━━━━━━\u001b[0m\u001b[37m\u001b[0m \u001b[1m0s\u001b[0m 18ms/step - accuracy: 0.9397 - loss: 0.3963 - val_accuracy: 0.9228 - val_loss: 0.4095\n"
     ]
    }
   ],
   "source": [
    "history = model_B.fit(X_train_B,y_train_B,epochs = 20,\n",
    "                     validation_data = (X_valid_B,y_valid_B))"
   ]
  },
  {
   "cell_type": "code",
   "execution_count": null,
   "id": "21db08d5-7c02-4e33-854b-43d2e19b7925",
   "metadata": {},
   "outputs": [],
   "source": []
  },
  {
   "cell_type": "code",
   "execution_count": 91,
   "id": "f93ab5bc-27f8-4c80-b9f8-b97aa7ce54da",
   "metadata": {},
   "outputs": [],
   "source": [
    "model_A = tf.keras.models.load_model('my_model_A.keras')\n",
    "model_B_on_A = tf.keras.Sequential(model_A.layers[:-1])\n",
    "model_B_on_A.add(tf.keras.layers.Dense(1,activation = 'sigmoid'))"
   ]
  },
  {
   "cell_type": "code",
   "execution_count": null,
   "id": "14b3647f-80a0-4978-810b-8e9005cbe407",
   "metadata": {},
   "outputs": [],
   "source": []
  },
  {
   "cell_type": "code",
   "execution_count": 92,
   "id": "75926f45-7929-4f79-bbdd-28acab4aad15",
   "metadata": {},
   "outputs": [],
   "source": [
    "model_A_clone = tf.keras.models.clone_model(model_A)\n",
    "model_A_clone.set_weights(model_A.get_weights())"
   ]
  },
  {
   "cell_type": "code",
   "execution_count": 93,
   "id": "6472dde8-0d04-426c-96c9-b69ecfd2411f",
   "metadata": {},
   "outputs": [],
   "source": [
    "model_B_on_A = tf.keras.Sequential(model_A_clone.layers[:-1])\n",
    "model_B_on_A.add(tf.keras.layers.Dense(1,activation = 'sigmoid'))"
   ]
  },
  {
   "cell_type": "code",
   "execution_count": 94,
   "id": "cdae1e12-26d2-4261-b4b2-f52b3d116f8b",
   "metadata": {},
   "outputs": [],
   "source": [
    "for layer in model_B_on_A.layers[:-1]:\n",
    "    layer.trainable = False\n",
    "\n",
    "model_B_on_A.compile(loss = 'binary_crossentropy',\n",
    "                    optimizer = tf.keras.optimizers.SGD(learning_rate = 0.001),\n",
    "                    metrics = ['accuracy'])"
   ]
  },
  {
   "cell_type": "code",
   "execution_count": 95,
   "id": "62cfaa97-198f-447f-8779-1d190e16a820",
   "metadata": {},
   "outputs": [
    {
     "name": "stdout",
     "output_type": "stream",
     "text": [
      "Epoch 1/4\n",
      "\u001b[1m7/7\u001b[0m \u001b[32m━━━━━━━━━━━━━━━━━━━━\u001b[0m\u001b[37m\u001b[0m \u001b[1m2s\u001b[0m 78ms/step - accuracy: 0.5891 - loss: 0.7012 - val_accuracy: 0.7043 - val_loss: 0.5339\n",
      "Epoch 2/4\n",
      "\u001b[1m7/7\u001b[0m \u001b[32m━━━━━━━━━━━━━━━━━━━━\u001b[0m\u001b[37m\u001b[0m \u001b[1m0s\u001b[0m 18ms/step - accuracy: 0.7430 - loss: 0.4916 - val_accuracy: 0.8467 - val_loss: 0.4723\n",
      "Epoch 3/4\n",
      "\u001b[1m7/7\u001b[0m \u001b[32m━━━━━━━━━━━━━━━━━━━━\u001b[0m\u001b[37m\u001b[0m \u001b[1m0s\u001b[0m 20ms/step - accuracy: 0.8806 - loss: 0.4518 - val_accuracy: 0.8754 - val_loss: 0.4609\n",
      "Epoch 4/4\n",
      "\u001b[1m7/7\u001b[0m \u001b[32m━━━━━━━━━━━━━━━━━━━━\u001b[0m\u001b[37m\u001b[0m \u001b[1m0s\u001b[0m 20ms/step - accuracy: 0.8531 - loss: 0.4450 - val_accuracy: 0.8823 - val_loss: 0.4568\n"
     ]
    }
   ],
   "source": [
    "history = model_B_on_A.fit(X_train_B,y_train_B,epochs = 4,\n",
    "                          validation_data = (X_valid_B,y_valid_B))"
   ]
  },
  {
   "cell_type": "code",
   "execution_count": 96,
   "id": "ce5231b4-11a4-4582-8744-94314282394b",
   "metadata": {},
   "outputs": [],
   "source": [
    "for layer in model_B_on_A.layers[:-1]:\n",
    "    layer.trainable = True\n",
    "\n",
    "model_B_on_A.compile(loss = 'binary_crossentropy',\n",
    "                    optimizer = tf.keras.optimizers.SGD(learning_rate = 1e-3),\n",
    "                    metrics = ['accuracy'])"
   ]
  },
  {
   "cell_type": "code",
   "execution_count": 97,
   "id": "f7283fc2-ced1-4569-9df3-eddb2ec91635",
   "metadata": {},
   "outputs": [
    {
     "name": "stdout",
     "output_type": "stream",
     "text": [
      "Epoch 1/16\n",
      "\u001b[1m7/7\u001b[0m \u001b[32m━━━━━━━━━━━━━━━━━━━━\u001b[0m\u001b[37m\u001b[0m \u001b[1m2s\u001b[0m 78ms/step - accuracy: 0.8713 - loss: 0.4360 - val_accuracy: 0.8872 - val_loss: 0.4293\n",
      "Epoch 2/16\n",
      "\u001b[1m7/7\u001b[0m \u001b[32m━━━━━━━━━━━━━━━━━━━━\u001b[0m\u001b[37m\u001b[0m \u001b[1m0s\u001b[0m 19ms/step - accuracy: 0.8713 - loss: 0.4073 - val_accuracy: 0.9041 - val_loss: 0.4026\n",
      "Epoch 3/16\n",
      "\u001b[1m7/7\u001b[0m \u001b[32m━━━━━━━━━━━━━━━━━━━━\u001b[0m\u001b[37m\u001b[0m \u001b[1m0s\u001b[0m 31ms/step - accuracy: 0.9016 - loss: 0.3795 - val_accuracy: 0.9110 - val_loss: 0.3800\n",
      "Epoch 4/16\n",
      "\u001b[1m7/7\u001b[0m \u001b[32m━━━━━━━━━━━━━━━━━━━━\u001b[0m\u001b[37m\u001b[0m \u001b[1m0s\u001b[0m 18ms/step - accuracy: 0.9282 - loss: 0.3561 - val_accuracy: 0.9149 - val_loss: 0.3608\n",
      "Epoch 5/16\n",
      "\u001b[1m7/7\u001b[0m \u001b[32m━━━━━━━━━━━━━━━━━━━━\u001b[0m\u001b[37m\u001b[0m \u001b[1m0s\u001b[0m 20ms/step - accuracy: 0.9535 - loss: 0.3363 - val_accuracy: 0.9209 - val_loss: 0.3446\n",
      "Epoch 6/16\n",
      "\u001b[1m7/7\u001b[0m \u001b[32m━━━━━━━━━━━━━━━━━━━━\u001b[0m\u001b[37m\u001b[0m \u001b[1m0s\u001b[0m 18ms/step - accuracy: 0.9535 - loss: 0.3197 - val_accuracy: 0.9248 - val_loss: 0.3308\n",
      "Epoch 7/16\n",
      "\u001b[1m7/7\u001b[0m \u001b[32m━━━━━━━━━━━━━━━━━━━━\u001b[0m\u001b[37m\u001b[0m \u001b[1m0s\u001b[0m 18ms/step - accuracy: 0.9535 - loss: 0.3055 - val_accuracy: 0.9258 - val_loss: 0.3188\n",
      "Epoch 8/16\n",
      "\u001b[1m7/7\u001b[0m \u001b[32m━━━━━━━━━━━━━━━━━━━━\u001b[0m\u001b[37m\u001b[0m \u001b[1m0s\u001b[0m 17ms/step - accuracy: 0.9466 - loss: 0.2932 - val_accuracy: 0.9318 - val_loss: 0.3084\n",
      "Epoch 9/16\n",
      "\u001b[1m7/7\u001b[0m \u001b[32m━━━━━━━━━━━━━━━━━━━━\u001b[0m\u001b[37m\u001b[0m \u001b[1m0s\u001b[0m 20ms/step - accuracy: 0.9466 - loss: 0.2825 - val_accuracy: 0.9337 - val_loss: 0.2990\n",
      "Epoch 10/16\n",
      "\u001b[1m7/7\u001b[0m \u001b[32m━━━━━━━━━━━━━━━━━━━━\u001b[0m\u001b[37m\u001b[0m \u001b[1m0s\u001b[0m 21ms/step - accuracy: 0.9466 - loss: 0.2728 - val_accuracy: 0.9327 - val_loss: 0.2906\n",
      "Epoch 11/16\n",
      "\u001b[1m7/7\u001b[0m \u001b[32m━━━━━━━━━━━━━━━━━━━━\u001b[0m\u001b[37m\u001b[0m \u001b[1m0s\u001b[0m 21ms/step - accuracy: 0.9466 - loss: 0.2639 - val_accuracy: 0.9337 - val_loss: 0.2830\n",
      "Epoch 12/16\n",
      "\u001b[1m7/7\u001b[0m \u001b[32m━━━━━━━━━━━━━━━━━━━━\u001b[0m\u001b[37m\u001b[0m \u001b[1m0s\u001b[0m 21ms/step - accuracy: 0.9466 - loss: 0.2558 - val_accuracy: 0.9347 - val_loss: 0.2761\n",
      "Epoch 13/16\n",
      "\u001b[1m7/7\u001b[0m \u001b[32m━━━━━━━━━━━━━━━━━━━━\u001b[0m\u001b[37m\u001b[0m \u001b[1m0s\u001b[0m 20ms/step - accuracy: 0.9466 - loss: 0.2484 - val_accuracy: 0.9397 - val_loss: 0.2698\n",
      "Epoch 14/16\n",
      "\u001b[1m7/7\u001b[0m \u001b[32m━━━━━━━━━━━━━━━━━━━━\u001b[0m\u001b[37m\u001b[0m \u001b[1m0s\u001b[0m 19ms/step - accuracy: 0.9574 - loss: 0.2417 - val_accuracy: 0.9426 - val_loss: 0.2640\n",
      "Epoch 15/16\n",
      "\u001b[1m7/7\u001b[0m \u001b[32m━━━━━━━━━━━━━━━━━━━━\u001b[0m\u001b[37m\u001b[0m \u001b[1m0s\u001b[0m 18ms/step - accuracy: 0.9574 - loss: 0.2355 - val_accuracy: 0.9436 - val_loss: 0.2588\n",
      "Epoch 16/16\n",
      "\u001b[1m7/7\u001b[0m \u001b[32m━━━━━━━━━━━━━━━━━━━━\u001b[0m\u001b[37m\u001b[0m \u001b[1m0s\u001b[0m 20ms/step - accuracy: 0.9574 - loss: 0.2298 - val_accuracy: 0.9426 - val_loss: 0.2539\n"
     ]
    }
   ],
   "source": [
    "history= model_B_on_A.fit(X_train_B,y_train_B,epochs = 16,\n",
    "                          validation_data = (X_valid_B,y_valid_B))"
   ]
  },
  {
   "cell_type": "code",
   "execution_count": 98,
   "id": "13e398c4-44fa-4d07-b701-706a0cd9d402",
   "metadata": {},
   "outputs": [
    {
     "name": "stdout",
     "output_type": "stream",
     "text": [
      "\u001b[1m63/63\u001b[0m \u001b[32m━━━━━━━━━━━━━━━━━━━━\u001b[0m\u001b[37m\u001b[0m \u001b[1m0s\u001b[0m 2ms/step - accuracy: 0.9361 - loss: 0.2552\n"
     ]
    },
    {
     "data": {
      "text/plain": [
       "[0.2629643380641937, 0.9330000281333923]"
      ]
     },
     "execution_count": 98,
     "metadata": {},
     "output_type": "execute_result"
    }
   ],
   "source": [
    "model_B_on_A.evaluate(X_test_B,y_test_B)"
   ]
  },
  {
   "cell_type": "markdown",
   "id": "7793962f-96c8-4755-b8d2-bd3578296cd6",
   "metadata": {},
   "source": [
    "# Faster Optimizers"
   ]
  },
  {
   "cell_type": "code",
   "execution_count": 99,
   "id": "3bbc26f0-31b1-477c-92a1-cb6f003c2cfd",
   "metadata": {},
   "outputs": [],
   "source": [
    "def build_model(seed = 42):\n",
    "    tf.random.set_seed(seed)\n",
    "    return tf.keras.Sequential([\n",
    "        tf.keras.layers.Flatten(input_shape = [28,28]),\n",
    "        tf.keras.layers.BatchNormalization(),\n",
    "        tf.keras.layers.Dense(100,activation = 'relu',\n",
    "                             kernel_initializer='he_normal'),\n",
    "        tf.keras.layers.BatchNormalization(),\n",
    "        tf.keras.layers.Dense(100,activation = 'relu',\n",
    "                             kernel_initializer = 'he_normal'),\n",
    "        tf.keras.layers.BatchNormalization(),\n",
    "        tf.keras.layers.Dense(100, activation = 'relu',\n",
    "                             kernel_initializer = 'he_normal'),\n",
    "        tf.keras.layers.BatchNormalization(),\n",
    "        tf.keras.layers.Dense(10,activation = 'softmax')\n",
    "    ])"
   ]
  },
  {
   "cell_type": "code",
   "execution_count": 100,
   "id": "725eb029-c727-4fb5-8365-670b688c4aaa",
   "metadata": {},
   "outputs": [],
   "source": [
    "def build_and_train_model(optimizer):\n",
    "    model = build_model()\n",
    "    model.compile(loss = 'sparse_categorical_crossentropy',\n",
    "                 optimizer = optimizer,\n",
    "                 metrics = ['accuracy'])\n",
    "    return model.fit(X_train,y_train,epochs = 10,\n",
    "                    validation_data=(X_valid,y_valid))"
   ]
  },
  {
   "cell_type": "code",
   "execution_count": 101,
   "id": "95e7bade-0f27-4f79-92cd-ff9131e08661",
   "metadata": {},
   "outputs": [],
   "source": [
    "optimizer = tf.keras.optimizers.SGD(learning_rate = 1e-3, momentum = 0.9)"
   ]
  },
  {
   "cell_type": "code",
   "execution_count": 102,
   "id": "450d4698-68ea-4ec8-924f-73cd90ba5ab0",
   "metadata": {},
   "outputs": [
    {
     "name": "stdout",
     "output_type": "stream",
     "text": [
      "Epoch 1/10\n",
      "\u001b[1m1719/1719\u001b[0m \u001b[32m━━━━━━━━━━━━━━━━━━━━\u001b[0m\u001b[37m\u001b[0m \u001b[1m11s\u001b[0m 4ms/step - accuracy: 0.7181 - loss: 0.8365 - val_accuracy: 0.8442 - val_loss: 0.4332\n",
      "Epoch 2/10\n",
      "\u001b[1m1719/1719\u001b[0m \u001b[32m━━━━━━━━━━━━━━━━━━━━\u001b[0m\u001b[37m\u001b[0m \u001b[1m7s\u001b[0m 4ms/step - accuracy: 0.8425 - loss: 0.4526 - val_accuracy: 0.8574 - val_loss: 0.3930\n",
      "Epoch 3/10\n",
      "\u001b[1m1719/1719\u001b[0m \u001b[32m━━━━━━━━━━━━━━━━━━━━\u001b[0m\u001b[37m\u001b[0m \u001b[1m7s\u001b[0m 4ms/step - accuracy: 0.8641 - loss: 0.3944 - val_accuracy: 0.8596 - val_loss: 0.3777\n",
      "Epoch 4/10\n",
      "\u001b[1m1719/1719\u001b[0m \u001b[32m━━━━━━━━━━━━━━━━━━━━\u001b[0m\u001b[37m\u001b[0m \u001b[1m7s\u001b[0m 4ms/step - accuracy: 0.8758 - loss: 0.3570 - val_accuracy: 0.8644 - val_loss: 0.3691\n",
      "Epoch 5/10\n",
      "\u001b[1m1719/1719\u001b[0m \u001b[32m━━━━━━━━━━━━━━━━━━━━\u001b[0m\u001b[37m\u001b[0m \u001b[1m7s\u001b[0m 4ms/step - accuracy: 0.8863 - loss: 0.3278 - val_accuracy: 0.8676 - val_loss: 0.3676\n",
      "Epoch 6/10\n",
      "\u001b[1m1719/1719\u001b[0m \u001b[32m━━━━━━━━━━━━━━━━━━━━\u001b[0m\u001b[37m\u001b[0m \u001b[1m9s\u001b[0m 5ms/step - accuracy: 0.8952 - loss: 0.3030 - val_accuracy: 0.8662 - val_loss: 0.3673\n",
      "Epoch 7/10\n",
      "\u001b[1m1719/1719\u001b[0m \u001b[32m━━━━━━━━━━━━━━━━━━━━\u001b[0m\u001b[37m\u001b[0m \u001b[1m8s\u001b[0m 5ms/step - accuracy: 0.9032 - loss: 0.2815 - val_accuracy: 0.8656 - val_loss: 0.3687\n",
      "Epoch 8/10\n",
      "\u001b[1m1719/1719\u001b[0m \u001b[32m━━━━━━━━━━━━━━━━━━━━\u001b[0m\u001b[37m\u001b[0m \u001b[1m9s\u001b[0m 4ms/step - accuracy: 0.9102 - loss: 0.2606 - val_accuracy: 0.8688 - val_loss: 0.3692\n",
      "Epoch 9/10\n",
      "\u001b[1m1719/1719\u001b[0m \u001b[32m━━━━━━━━━━━━━━━━━━━━\u001b[0m\u001b[37m\u001b[0m \u001b[1m8s\u001b[0m 5ms/step - accuracy: 0.9182 - loss: 0.2416 - val_accuracy: 0.8698 - val_loss: 0.3738\n",
      "Epoch 10/10\n",
      "\u001b[1m1719/1719\u001b[0m \u001b[32m━━━━━━━━━━━━━━━━━━━━\u001b[0m\u001b[37m\u001b[0m \u001b[1m9s\u001b[0m 5ms/step - accuracy: 0.9246 - loss: 0.2245 - val_accuracy: 0.8700 - val_loss: 0.3784\n"
     ]
    },
    {
     "data": {
      "text/plain": [
       "<keras.src.callbacks.history.History at 0x142b2010bd0>"
      ]
     },
     "execution_count": 102,
     "metadata": {},
     "output_type": "execute_result"
    }
   ],
   "source": [
    "build_and_train_model(optimizer)"
   ]
  },
  {
   "cell_type": "code",
   "execution_count": 105,
   "id": "7ccc7454-9251-4cd4-a1fa-22975d254fa1",
   "metadata": {},
   "outputs": [],
   "source": [
    "optimizer = tf.keras.optimizers.SGD(learning_rate = 1e-3,momentum=0.9,nesterov = True)"
   ]
  },
  {
   "cell_type": "code",
   "execution_count": 107,
   "id": "31fa3b6e-3ca6-4057-8579-7eaee9bffd21",
   "metadata": {},
   "outputs": [
    {
     "name": "stdout",
     "output_type": "stream",
     "text": [
      "Epoch 1/10\n",
      "\u001b[1m1719/1719\u001b[0m \u001b[32m━━━━━━━━━━━━━━━━━━━━\u001b[0m\u001b[37m\u001b[0m \u001b[1m13s\u001b[0m 5ms/step - accuracy: 0.7203 - loss: 0.8249 - val_accuracy: 0.8446 - val_loss: 0.4218\n",
      "Epoch 2/10\n",
      "\u001b[1m1719/1719\u001b[0m \u001b[32m━━━━━━━━━━━━━━━━━━━━\u001b[0m\u001b[37m\u001b[0m \u001b[1m8s\u001b[0m 4ms/step - accuracy: 0.8431 - loss: 0.4466 - val_accuracy: 0.8560 - val_loss: 0.3854\n",
      "Epoch 3/10\n",
      "\u001b[1m1719/1719\u001b[0m \u001b[32m━━━━━━━━━━━━━━━━━━━━\u001b[0m\u001b[37m\u001b[0m \u001b[1m7s\u001b[0m 4ms/step - accuracy: 0.8630 - loss: 0.3867 - val_accuracy: 0.8596 - val_loss: 0.3708\n",
      "Epoch 4/10\n",
      "\u001b[1m1719/1719\u001b[0m \u001b[32m━━━━━━━━━━━━━━━━━━━━\u001b[0m\u001b[37m\u001b[0m \u001b[1m9s\u001b[0m 5ms/step - accuracy: 0.8758 - loss: 0.3477 - val_accuracy: 0.8680 - val_loss: 0.3645\n",
      "Epoch 5/10\n",
      "\u001b[1m1719/1719\u001b[0m \u001b[32m━━━━━━━━━━━━━━━━━━━━\u001b[0m\u001b[37m\u001b[0m \u001b[1m8s\u001b[0m 5ms/step - accuracy: 0.8864 - loss: 0.3176 - val_accuracy: 0.8672 - val_loss: 0.3611\n",
      "Epoch 6/10\n",
      "\u001b[1m1719/1719\u001b[0m \u001b[32m━━━━━━━━━━━━━━━━━━━━\u001b[0m\u001b[37m\u001b[0m \u001b[1m8s\u001b[0m 4ms/step - accuracy: 0.8956 - loss: 0.2925 - val_accuracy: 0.8678 - val_loss: 0.3612\n",
      "Epoch 7/10\n",
      "\u001b[1m1719/1719\u001b[0m \u001b[32m━━━━━━━━━━━━━━━━━━━━\u001b[0m\u001b[37m\u001b[0m \u001b[1m8s\u001b[0m 5ms/step - accuracy: 0.9048 - loss: 0.2710 - val_accuracy: 0.8670 - val_loss: 0.3629\n",
      "Epoch 8/10\n",
      "\u001b[1m1719/1719\u001b[0m \u001b[32m━━━━━━━━━━━━━━━━━━━━\u001b[0m\u001b[37m\u001b[0m \u001b[1m6s\u001b[0m 4ms/step - accuracy: 0.9118 - loss: 0.2513 - val_accuracy: 0.8680 - val_loss: 0.3656\n",
      "Epoch 9/10\n",
      "\u001b[1m1719/1719\u001b[0m \u001b[32m━━━━━━━━━━━━━━━━━━━━\u001b[0m\u001b[37m\u001b[0m \u001b[1m7s\u001b[0m 4ms/step - accuracy: 0.9186 - loss: 0.2336 - val_accuracy: 0.8696 - val_loss: 0.3692\n",
      "Epoch 10/10\n",
      "\u001b[1m1719/1719\u001b[0m \u001b[32m━━━━━━━━━━━━━━━━━━━━\u001b[0m\u001b[37m\u001b[0m \u001b[1m7s\u001b[0m 4ms/step - accuracy: 0.9243 - loss: 0.2167 - val_accuracy: 0.8694 - val_loss: 0.3738\n"
     ]
    },
    {
     "data": {
      "text/plain": [
       "<keras.src.callbacks.history.History at 0x142e8995a10>"
      ]
     },
     "execution_count": 107,
     "metadata": {},
     "output_type": "execute_result"
    }
   ],
   "source": [
    "build_and_train_model(optimizer)"
   ]
  },
  {
   "cell_type": "markdown",
   "id": "7b96e795-ee25-4379-bce8-cf801c437f56",
   "metadata": {},
   "source": [
    "## AdaGrad Optimizer"
   ]
  },
  {
   "cell_type": "code",
   "execution_count": 116,
   "id": "189a9257-af71-4ec2-ab19-18eecf8c32eb",
   "metadata": {},
   "outputs": [
    {
     "name": "stdout",
     "output_type": "stream",
     "text": [
      "Epoch 1/10\n",
      "\u001b[1m1719/1719\u001b[0m \u001b[32m━━━━━━━━━━━━━━━━━━━━\u001b[0m\u001b[37m\u001b[0m \u001b[1m12s\u001b[0m 5ms/step - accuracy: 0.6412 - loss: 1.0685 - val_accuracy: 0.7928 - val_loss: 0.5826\n",
      "Epoch 2/10\n",
      "\u001b[1m1719/1719\u001b[0m \u001b[32m━━━━━━━━━━━━━━━━━━━━\u001b[0m\u001b[37m\u001b[0m \u001b[1m8s\u001b[0m 4ms/step - accuracy: 0.7827 - loss: 0.6284 - val_accuracy: 0.8154 - val_loss: 0.5181\n",
      "Epoch 3/10\n",
      "\u001b[1m1719/1719\u001b[0m \u001b[32m━━━━━━━━━━━━━━━━━━━━\u001b[0m\u001b[37m\u001b[0m \u001b[1m6s\u001b[0m 4ms/step - accuracy: 0.8007 - loss: 0.5662 - val_accuracy: 0.8238 - val_loss: 0.4877\n",
      "Epoch 4/10\n",
      "\u001b[1m1719/1719\u001b[0m \u001b[32m━━━━━━━━━━━━━━━━━━━━\u001b[0m\u001b[37m\u001b[0m \u001b[1m7s\u001b[0m 4ms/step - accuracy: 0.8125 - loss: 0.5325 - val_accuracy: 0.8308 - val_loss: 0.4690\n",
      "Epoch 5/10\n",
      "\u001b[1m1719/1719\u001b[0m \u001b[32m━━━━━━━━━━━━━━━━━━━━\u001b[0m\u001b[37m\u001b[0m \u001b[1m7s\u001b[0m 4ms/step - accuracy: 0.8205 - loss: 0.5097 - val_accuracy: 0.8378 - val_loss: 0.4562\n",
      "Epoch 6/10\n",
      "\u001b[1m1719/1719\u001b[0m \u001b[32m━━━━━━━━━━━━━━━━━━━━\u001b[0m\u001b[37m\u001b[0m \u001b[1m7s\u001b[0m 4ms/step - accuracy: 0.8265 - loss: 0.4926 - val_accuracy: 0.8410 - val_loss: 0.4460\n",
      "Epoch 7/10\n",
      "\u001b[1m1719/1719\u001b[0m \u001b[32m━━━━━━━━━━━━━━━━━━━━\u001b[0m\u001b[37m\u001b[0m \u001b[1m7s\u001b[0m 4ms/step - accuracy: 0.8312 - loss: 0.4789 - val_accuracy: 0.8434 - val_loss: 0.4381\n",
      "Epoch 8/10\n",
      "\u001b[1m1719/1719\u001b[0m \u001b[32m━━━━━━━━━━━━━━━━━━━━\u001b[0m\u001b[37m\u001b[0m \u001b[1m7s\u001b[0m 4ms/step - accuracy: 0.8351 - loss: 0.4675 - val_accuracy: 0.8450 - val_loss: 0.4315\n",
      "Epoch 9/10\n",
      "\u001b[1m1719/1719\u001b[0m \u001b[32m━━━━━━━━━━━━━━━━━━━━\u001b[0m\u001b[37m\u001b[0m \u001b[1m8s\u001b[0m 5ms/step - accuracy: 0.8382 - loss: 0.4577 - val_accuracy: 0.8468 - val_loss: 0.4259\n",
      "Epoch 10/10\n",
      "\u001b[1m1719/1719\u001b[0m \u001b[32m━━━━━━━━━━━━━━━━━━━━\u001b[0m\u001b[37m\u001b[0m \u001b[1m7s\u001b[0m 4ms/step - accuracy: 0.8416 - loss: 0.4492 - val_accuracy: 0.8492 - val_loss: 0.4212\n"
     ]
    }
   ],
   "source": [
    "optimizer = tf.keras.optimizers.Adagrad(learning_rate = 0.001)\n",
    "histoty = build_and_train_model(optimizer)"
   ]
  },
  {
   "cell_type": "markdown",
   "id": "99800940-08e4-4a44-a4ae-97c22bfa3852",
   "metadata": {},
   "source": [
    "## RMSProp"
   ]
  },
  {
   "cell_type": "code",
   "execution_count": 119,
   "id": "6dd2161e-4f71-4bb7-94ed-b910ea72127c",
   "metadata": {},
   "outputs": [
    {
     "name": "stdout",
     "output_type": "stream",
     "text": [
      "Epoch 1/10\n",
      "\u001b[1m1719/1719\u001b[0m \u001b[32m━━━━━━━━━━━━━━━━━━━━\u001b[0m\u001b[37m\u001b[0m \u001b[1m12s\u001b[0m 5ms/step - accuracy: 0.7839 - loss: 0.6225 - val_accuracy: 0.8618 - val_loss: 0.3737\n",
      "Epoch 2/10\n",
      "\u001b[1m1719/1719\u001b[0m \u001b[32m━━━━━━━━━━━━━━━━━━━━\u001b[0m\u001b[37m\u001b[0m \u001b[1m8s\u001b[0m 5ms/step - accuracy: 0.8594 - loss: 0.3861 - val_accuracy: 0.8758 - val_loss: 0.3435\n",
      "Epoch 3/10\n",
      "\u001b[1m1719/1719\u001b[0m \u001b[32m━━━━━━━━━━━━━━━━━━━━\u001b[0m\u001b[37m\u001b[0m \u001b[1m9s\u001b[0m 4ms/step - accuracy: 0.8812 - loss: 0.3313 - val_accuracy: 0.8772 - val_loss: 0.3489\n",
      "Epoch 4/10\n",
      "\u001b[1m1719/1719\u001b[0m \u001b[32m━━━━━━━━━━━━━━━━━━━━\u001b[0m\u001b[37m\u001b[0m \u001b[1m9s\u001b[0m 5ms/step - accuracy: 0.8939 - loss: 0.2931 - val_accuracy: 0.8790 - val_loss: 0.3512\n",
      "Epoch 5/10\n",
      "\u001b[1m1719/1719\u001b[0m \u001b[32m━━━━━━━━━━━━━━━━━━━━\u001b[0m\u001b[37m\u001b[0m \u001b[1m8s\u001b[0m 4ms/step - accuracy: 0.9040 - loss: 0.2644 - val_accuracy: 0.8838 - val_loss: 0.3536\n",
      "Epoch 6/10\n",
      "\u001b[1m1719/1719\u001b[0m \u001b[32m━━━━━━━━━━━━━━━━━━━━\u001b[0m\u001b[37m\u001b[0m \u001b[1m8s\u001b[0m 4ms/step - accuracy: 0.9128 - loss: 0.2373 - val_accuracy: 0.8798 - val_loss: 0.3725\n",
      "Epoch 7/10\n",
      "\u001b[1m1719/1719\u001b[0m \u001b[32m━━━━━━━━━━━━━━━━━━━━\u001b[0m\u001b[37m\u001b[0m \u001b[1m9s\u001b[0m 5ms/step - accuracy: 0.9213 - loss: 0.2171 - val_accuracy: 0.8860 - val_loss: 0.3955\n",
      "Epoch 8/10\n",
      "\u001b[1m1719/1719\u001b[0m \u001b[32m━━━━━━━━━━━━━━━━━━━━\u001b[0m\u001b[37m\u001b[0m \u001b[1m8s\u001b[0m 5ms/step - accuracy: 0.9270 - loss: 0.1983 - val_accuracy: 0.8788 - val_loss: 0.4239\n",
      "Epoch 9/10\n",
      "\u001b[1m1719/1719\u001b[0m \u001b[32m━━━━━━━━━━━━━━━━━━━━\u001b[0m\u001b[37m\u001b[0m \u001b[1m8s\u001b[0m 5ms/step - accuracy: 0.9349 - loss: 0.1809 - val_accuracy: 0.8764 - val_loss: 0.4478\n",
      "Epoch 10/10\n",
      "\u001b[1m1719/1719\u001b[0m \u001b[32m━━━━━━━━━━━━━━━━━━━━\u001b[0m\u001b[37m\u001b[0m \u001b[1m9s\u001b[0m 5ms/step - accuracy: 0.9400 - loss: 0.1651 - val_accuracy: 0.8730 - val_loss: 0.5053\n"
     ]
    }
   ],
   "source": [
    "optimizer = tf.keras.optimizers.RMSprop(learning_rate = 0.001,rho =0.9)\n",
    "histoty = build_and_train_model(optimizer)"
   ]
  },
  {
   "cell_type": "markdown",
   "id": "bbed7bc9-0238-42c6-bdd8-e8d6d15c7c6e",
   "metadata": {},
   "source": [
    "## Adam Optimizer"
   ]
  },
  {
   "cell_type": "code",
   "execution_count": 121,
   "id": "6a8eb75f-e37c-47a4-8480-2f8cca75c399",
   "metadata": {},
   "outputs": [
    {
     "name": "stdout",
     "output_type": "stream",
     "text": [
      "Epoch 1/10\n",
      "\u001b[1m1719/1719\u001b[0m \u001b[32m━━━━━━━━━━━━━━━━━━━━\u001b[0m\u001b[37m\u001b[0m \u001b[1m18s\u001b[0m 7ms/step - accuracy: 0.7766 - loss: 0.6370 - val_accuracy: 0.8512 - val_loss: 0.3879\n",
      "Epoch 2/10\n",
      "\u001b[1m1719/1719\u001b[0m \u001b[32m━━━━━━━━━━━━━━━━━━━━\u001b[0m\u001b[37m\u001b[0m \u001b[1m10s\u001b[0m 6ms/step - accuracy: 0.8587 - loss: 0.3891 - val_accuracy: 0.8674 - val_loss: 0.3506\n",
      "Epoch 3/10\n",
      "\u001b[1m1719/1719\u001b[0m \u001b[32m━━━━━━━━━━━━━━━━━━━━\u001b[0m\u001b[37m\u001b[0m \u001b[1m9s\u001b[0m 5ms/step - accuracy: 0.8771 - loss: 0.3339 - val_accuracy: 0.8712 - val_loss: 0.3481\n",
      "Epoch 4/10\n",
      "\u001b[1m1719/1719\u001b[0m \u001b[32m━━━━━━━━━━━━━━━━━━━━\u001b[0m\u001b[37m\u001b[0m \u001b[1m7s\u001b[0m 4ms/step - accuracy: 0.8916 - loss: 0.2949 - val_accuracy: 0.8708 - val_loss: 0.3572\n",
      "Epoch 5/10\n",
      "\u001b[1m1719/1719\u001b[0m \u001b[32m━━━━━━━━━━━━━━━━━━━━\u001b[0m\u001b[37m\u001b[0m \u001b[1m9s\u001b[0m 5ms/step - accuracy: 0.9022 - loss: 0.2654 - val_accuracy: 0.8694 - val_loss: 0.3680\n",
      "Epoch 6/10\n",
      "\u001b[1m1719/1719\u001b[0m \u001b[32m━━━━━━━━━━━━━━━━━━━━\u001b[0m\u001b[37m\u001b[0m \u001b[1m9s\u001b[0m 5ms/step - accuracy: 0.9111 - loss: 0.2376 - val_accuracy: 0.8664 - val_loss: 0.3926\n",
      "Epoch 7/10\n",
      "\u001b[1m1719/1719\u001b[0m \u001b[32m━━━━━━━━━━━━━━━━━━━━\u001b[0m\u001b[37m\u001b[0m \u001b[1m11s\u001b[0m 6ms/step - accuracy: 0.9207 - loss: 0.2151 - val_accuracy: 0.8726 - val_loss: 0.3939\n",
      "Epoch 8/10\n",
      "\u001b[1m1719/1719\u001b[0m \u001b[32m━━━━━━━━━━━━━━━━━━━━\u001b[0m\u001b[37m\u001b[0m \u001b[1m17s\u001b[0m 5ms/step - accuracy: 0.9288 - loss: 0.1956 - val_accuracy: 0.8686 - val_loss: 0.4156\n",
      "Epoch 9/10\n",
      "\u001b[1m1719/1719\u001b[0m \u001b[32m━━━━━━━━━━━━━━━━━━━━\u001b[0m\u001b[37m\u001b[0m \u001b[1m9s\u001b[0m 5ms/step - accuracy: 0.9346 - loss: 0.1769 - val_accuracy: 0.8670 - val_loss: 0.4372\n",
      "Epoch 10/10\n",
      "\u001b[1m1719/1719\u001b[0m \u001b[32m━━━━━━━━━━━━━━━━━━━━\u001b[0m\u001b[37m\u001b[0m \u001b[1m10s\u001b[0m 6ms/step - accuracy: 0.9394 - loss: 0.1625 - val_accuracy: 0.8640 - val_loss: 0.4602\n"
     ]
    }
   ],
   "source": [
    "optimizer = tf.keras.optimizers.Adam(learning_rate = 0.001,beta_1 = 0.9,beta_2 = 0.999)\n",
    "histoty = build_and_train_model(optimizer)"
   ]
  },
  {
   "cell_type": "markdown",
   "id": "9ff584f4-43d6-4951-a544-4c6d43dba429",
   "metadata": {},
   "source": [
    "## AdaMax Optimier"
   ]
  },
  {
   "cell_type": "code",
   "execution_count": 124,
   "id": "3a76d77b-1f5c-42b2-bbc4-f29693791aa0",
   "metadata": {},
   "outputs": [
    {
     "name": "stdout",
     "output_type": "stream",
     "text": [
      "Epoch 1/10\n",
      "\u001b[1m1719/1719\u001b[0m \u001b[32m━━━━━━━━━━━━━━━━━━━━\u001b[0m\u001b[37m\u001b[0m \u001b[1m15s\u001b[0m 6ms/step - accuracy: 0.7496 - loss: 0.7351 - val_accuracy: 0.8552 - val_loss: 0.3890\n",
      "Epoch 2/10\n",
      "\u001b[1m1719/1719\u001b[0m \u001b[32m━━━━━━━━━━━━━━━━━━━━\u001b[0m\u001b[37m\u001b[0m \u001b[1m10s\u001b[0m 6ms/step - accuracy: 0.8538 - loss: 0.4103 - val_accuracy: 0.8718 - val_loss: 0.3534\n",
      "Epoch 3/10\n",
      "\u001b[1m1719/1719\u001b[0m \u001b[32m━━━━━━━━━━━━━━━━━━━━\u001b[0m\u001b[37m\u001b[0m \u001b[1m10s\u001b[0m 6ms/step - accuracy: 0.8776 - loss: 0.3458 - val_accuracy: 0.8796 - val_loss: 0.3399\n",
      "Epoch 4/10\n",
      "\u001b[1m1719/1719\u001b[0m \u001b[32m━━━━━━━━━━━━━━━━━━━━\u001b[0m\u001b[37m\u001b[0m \u001b[1m8s\u001b[0m 5ms/step - accuracy: 0.8922 - loss: 0.3041 - val_accuracy: 0.8772 - val_loss: 0.3360\n",
      "Epoch 5/10\n",
      "\u001b[1m1719/1719\u001b[0m \u001b[32m━━━━━━━━━━━━━━━━━━━━\u001b[0m\u001b[37m\u001b[0m \u001b[1m8s\u001b[0m 5ms/step - accuracy: 0.9024 - loss: 0.2721 - val_accuracy: 0.8808 - val_loss: 0.3410\n",
      "Epoch 6/10\n",
      "\u001b[1m1719/1719\u001b[0m \u001b[32m━━━━━━━━━━━━━━━━━━━━\u001b[0m\u001b[37m\u001b[0m \u001b[1m9s\u001b[0m 5ms/step - accuracy: 0.9131 - loss: 0.2431 - val_accuracy: 0.8788 - val_loss: 0.3465\n",
      "Epoch 7/10\n",
      "\u001b[1m1719/1719\u001b[0m \u001b[32m━━━━━━━━━━━━━━━━━━━━\u001b[0m\u001b[37m\u001b[0m \u001b[1m10s\u001b[0m 5ms/step - accuracy: 0.9229 - loss: 0.2175 - val_accuracy: 0.8768 - val_loss: 0.3572\n",
      "Epoch 8/10\n",
      "\u001b[1m1719/1719\u001b[0m \u001b[32m━━━━━━━━━━━━━━━━━━━━\u001b[0m\u001b[37m\u001b[0m \u001b[1m10s\u001b[0m 6ms/step - accuracy: 0.9332 - loss: 0.1951 - val_accuracy: 0.8744 - val_loss: 0.3699\n",
      "Epoch 9/10\n",
      "\u001b[1m1719/1719\u001b[0m \u001b[32m━━━━━━━━━━━━━━━━━━━━\u001b[0m\u001b[37m\u001b[0m \u001b[1m8s\u001b[0m 5ms/step - accuracy: 0.9415 - loss: 0.1746 - val_accuracy: 0.8766 - val_loss: 0.3822\n",
      "Epoch 10/10\n",
      "\u001b[1m1719/1719\u001b[0m \u001b[32m━━━━━━━━━━━━━━━━━━━━\u001b[0m\u001b[37m\u001b[0m \u001b[1m8s\u001b[0m 5ms/step - accuracy: 0.9479 - loss: 0.1559 - val_accuracy: 0.8742 - val_loss: 0.3967\n"
     ]
    }
   ],
   "source": [
    "optimizer = tf.keras.optimizers.Adamax(learning_rate = 0.001,beta_1 = 0.9,beta_2 = 0.999)\n",
    "histoty = build_and_train_model(optimizer)"
   ]
  },
  {
   "cell_type": "markdown",
   "id": "e15b1557-2610-4e1b-986e-829d9b1517fb",
   "metadata": {},
   "source": [
    "## Nadam"
   ]
  },
  {
   "cell_type": "code",
   "execution_count": 131,
   "id": "938a90be-3c8f-4810-ad46-2c54f6cc9d1b",
   "metadata": {},
   "outputs": [
    {
     "name": "stdout",
     "output_type": "stream",
     "text": [
      "Epoch 1/10\n",
      "\u001b[1m1719/1719\u001b[0m \u001b[32m━━━━━━━━━━━━━━━━━━━━\u001b[0m\u001b[37m\u001b[0m \u001b[1m17s\u001b[0m 6ms/step - accuracy: 0.7779 - loss: 0.6422 - val_accuracy: 0.8594 - val_loss: 0.3599\n",
      "Epoch 2/10\n",
      "\u001b[1m1719/1719\u001b[0m \u001b[32m━━━━━━━━━━━━━━━━━━━━\u001b[0m\u001b[37m\u001b[0m \u001b[1m11s\u001b[0m 6ms/step - accuracy: 0.8587 - loss: 0.3842 - val_accuracy: 0.8686 - val_loss: 0.3416\n",
      "Epoch 3/10\n",
      "\u001b[1m1719/1719\u001b[0m \u001b[32m━━━━━━━━━━━━━━━━━━━━\u001b[0m\u001b[37m\u001b[0m \u001b[1m11s\u001b[0m 6ms/step - accuracy: 0.8767 - loss: 0.3298 - val_accuracy: 0.8724 - val_loss: 0.3361\n",
      "Epoch 4/10\n",
      "\u001b[1m1719/1719\u001b[0m \u001b[32m━━━━━━━━━━━━━━━━━━━━\u001b[0m\u001b[37m\u001b[0m \u001b[1m8s\u001b[0m 5ms/step - accuracy: 0.8934 - loss: 0.2900 - val_accuracy: 0.8726 - val_loss: 0.3446\n",
      "Epoch 5/10\n",
      "\u001b[1m1719/1719\u001b[0m \u001b[32m━━━━━━━━━━━━━━━━━━━━\u001b[0m\u001b[37m\u001b[0m \u001b[1m9s\u001b[0m 5ms/step - accuracy: 0.9036 - loss: 0.2585 - val_accuracy: 0.8744 - val_loss: 0.3601\n",
      "Epoch 6/10\n",
      "\u001b[1m1719/1719\u001b[0m \u001b[32m━━━━━━━━━━━━━━━━━━━━\u001b[0m\u001b[37m\u001b[0m \u001b[1m10s\u001b[0m 6ms/step - accuracy: 0.9123 - loss: 0.2334 - val_accuracy: 0.8734 - val_loss: 0.3760\n",
      "Epoch 7/10\n",
      "\u001b[1m1719/1719\u001b[0m \u001b[32m━━━━━━━━━━━━━━━━━━━━\u001b[0m\u001b[37m\u001b[0m \u001b[1m11s\u001b[0m 6ms/step - accuracy: 0.9201 - loss: 0.2113 - val_accuracy: 0.8704 - val_loss: 0.3931\n",
      "Epoch 8/10\n",
      "\u001b[1m1719/1719\u001b[0m \u001b[32m━━━━━━━━━━━━━━━━━━━━\u001b[0m\u001b[37m\u001b[0m \u001b[1m9s\u001b[0m 5ms/step - accuracy: 0.9304 - loss: 0.1919 - val_accuracy: 0.8776 - val_loss: 0.3936\n",
      "Epoch 9/10\n",
      "\u001b[1m1719/1719\u001b[0m \u001b[32m━━━━━━━━━━━━━━━━━━━━\u001b[0m\u001b[37m\u001b[0m \u001b[1m9s\u001b[0m 5ms/step - accuracy: 0.9358 - loss: 0.1723 - val_accuracy: 0.8658 - val_loss: 0.4419\n",
      "Epoch 10/10\n",
      "\u001b[1m1719/1719\u001b[0m \u001b[32m━━━━━━━━━━━━━━━━━━━━\u001b[0m\u001b[37m\u001b[0m \u001b[1m9s\u001b[0m 5ms/step - accuracy: 0.9409 - loss: 0.1582 - val_accuracy: 0.8748 - val_loss: 0.4297\n"
     ]
    }
   ],
   "source": [
    "optimizer = tf.keras.optimizers.Nadam(learning_rate = 0.001,beta_1 = 0.9,beta_2 = 0.999)\n",
    "histoty = build_and_train_model(optimizer)"
   ]
  },
  {
   "cell_type": "markdown",
   "id": "ea1dfc1d-ede3-4bb3-a81a-426909c0f641",
   "metadata": {},
   "source": [
    "## AdamW Optimizer"
   ]
  },
  {
   "cell_type": "code",
   "execution_count": 135,
   "id": "89d4957a-f5f8-4912-9c42-aa405a7f36e1",
   "metadata": {},
   "outputs": [
    {
     "name": "stdout",
     "output_type": "stream",
     "text": [
      "Epoch 1/10\n",
      "\u001b[1m1719/1719\u001b[0m \u001b[32m━━━━━━━━━━━━━━━━━━━━\u001b[0m\u001b[37m\u001b[0m \u001b[1m17s\u001b[0m 6ms/step - accuracy: 0.7726 - loss: 0.6525 - val_accuracy: 0.8630 - val_loss: 0.3699\n",
      "Epoch 2/10\n",
      "\u001b[1m1719/1719\u001b[0m \u001b[32m━━━━━━━━━━━━━━━━━━━━\u001b[0m\u001b[37m\u001b[0m \u001b[1m10s\u001b[0m 6ms/step - accuracy: 0.8588 - loss: 0.3893 - val_accuracy: 0.8660 - val_loss: 0.3555\n",
      "Epoch 3/10\n",
      "\u001b[1m1719/1719\u001b[0m \u001b[32m━━━━━━━━━━━━━━━━━━━━\u001b[0m\u001b[37m\u001b[0m \u001b[1m11s\u001b[0m 6ms/step - accuracy: 0.8773 - loss: 0.3336 - val_accuracy: 0.8720 - val_loss: 0.3476\n",
      "Epoch 4/10\n",
      "\u001b[1m1719/1719\u001b[0m \u001b[32m━━━━━━━━━━━━━━━━━━━━\u001b[0m\u001b[37m\u001b[0m \u001b[1m10s\u001b[0m 6ms/step - accuracy: 0.8913 - loss: 0.2936 - val_accuracy: 0.8716 - val_loss: 0.3570\n",
      "Epoch 5/10\n",
      "\u001b[1m1719/1719\u001b[0m \u001b[32m━━━━━━━━━━━━━━━━━━━━\u001b[0m\u001b[37m\u001b[0m \u001b[1m9s\u001b[0m 5ms/step - accuracy: 0.9012 - loss: 0.2637 - val_accuracy: 0.8728 - val_loss: 0.3671\n",
      "Epoch 6/10\n",
      "\u001b[1m1719/1719\u001b[0m \u001b[32m━━━━━━━━━━━━━━━━━━━━\u001b[0m\u001b[37m\u001b[0m \u001b[1m10s\u001b[0m 5ms/step - accuracy: 0.9104 - loss: 0.2399 - val_accuracy: 0.8670 - val_loss: 0.4045\n",
      "Epoch 7/10\n",
      "\u001b[1m1719/1719\u001b[0m \u001b[32m━━━━━━━━━━━━━━━━━━━━\u001b[0m\u001b[37m\u001b[0m \u001b[1m8s\u001b[0m 5ms/step - accuracy: 0.9192 - loss: 0.2178 - val_accuracy: 0.8692 - val_loss: 0.4024\n",
      "Epoch 8/10\n",
      "\u001b[1m1719/1719\u001b[0m \u001b[32m━━━━━━━━━━━━━━━━━━━━\u001b[0m\u001b[37m\u001b[0m \u001b[1m10s\u001b[0m 6ms/step - accuracy: 0.9268 - loss: 0.1963 - val_accuracy: 0.8670 - val_loss: 0.4128\n",
      "Epoch 9/10\n",
      "\u001b[1m1719/1719\u001b[0m \u001b[32m━━━━━━━━━━━━━━━━━━━━\u001b[0m\u001b[37m\u001b[0m \u001b[1m10s\u001b[0m 6ms/step - accuracy: 0.9334 - loss: 0.1815 - val_accuracy: 0.8738 - val_loss: 0.4250\n",
      "Epoch 10/10\n",
      "\u001b[1m1719/1719\u001b[0m \u001b[32m━━━━━━━━━━━━━━━━━━━━\u001b[0m\u001b[37m\u001b[0m \u001b[1m10s\u001b[0m 6ms/step - accuracy: 0.9402 - loss: 0.1632 - val_accuracy: 0.8652 - val_loss: 0.4626\n"
     ]
    }
   ],
   "source": [
    "optimizer = tf.keras.optimizers.Adam(weight_decay = 1e-5,learning_rate = 0.001,beta_1 = 0.9,beta_2 = 0.999)\n",
    "histoty = build_and_train_model(optimizer)"
   ]
  },
  {
   "cell_type": "markdown",
   "id": "21a90f64-c4c9-488c-a973-ccd380986278",
   "metadata": {},
   "source": [
    "# Learning Rate Scheduling"
   ]
  },
  {
   "cell_type": "markdown",
   "id": "9a013149-66ee-4c57-a3bf-5e662767c51f",
   "metadata": {},
   "source": [
    "## Power scheduling"
   ]
  },
  {
   "cell_type": "code",
   "execution_count": 155,
   "id": "746c11e2-810a-4ce1-9f23-16ebb061e2f7",
   "metadata": {},
   "outputs": [
    {
     "name": "stdout",
     "output_type": "stream",
     "text": [
      "Epoch 1/10\n",
      "\u001b[1m1719/1719\u001b[0m \u001b[32m━━━━━━━━━━━━━━━━━━━━\u001b[0m\u001b[37m\u001b[0m \u001b[1m8s\u001b[0m 3ms/step - accuracy: 0.7310 - loss: 0.7974 - val_accuracy: 0.8378 - val_loss: 0.4270\n",
      "Epoch 2/10\n",
      "\u001b[1m1719/1719\u001b[0m \u001b[32m━━━━━━━━━━━━━━━━━━━━\u001b[0m\u001b[37m\u001b[0m \u001b[1m5s\u001b[0m 3ms/step - accuracy: 0.8428 - loss: 0.4463 - val_accuracy: 0.8538 - val_loss: 0.3936\n",
      "Epoch 3/10\n",
      "\u001b[1m1719/1719\u001b[0m \u001b[32m━━━━━━━━━━━━━━━━━━━━\u001b[0m\u001b[37m\u001b[0m \u001b[1m6s\u001b[0m 3ms/step - accuracy: 0.8618 - loss: 0.3902 - val_accuracy: 0.8606 - val_loss: 0.3774\n",
      "Epoch 4/10\n",
      "\u001b[1m1719/1719\u001b[0m \u001b[32m━━━━━━━━━━━━━━━━━━━━\u001b[0m\u001b[37m\u001b[0m \u001b[1m6s\u001b[0m 3ms/step - accuracy: 0.8720 - loss: 0.3568 - val_accuracy: 0.8638 - val_loss: 0.3691\n",
      "Epoch 5/10\n",
      "\u001b[1m1719/1719\u001b[0m \u001b[32m━━━━━━━━━━━━━━━━━━━━\u001b[0m\u001b[37m\u001b[0m \u001b[1m5s\u001b[0m 3ms/step - accuracy: 0.8804 - loss: 0.3327 - val_accuracy: 0.8648 - val_loss: 0.3640\n",
      "Epoch 6/10\n",
      "\u001b[1m1719/1719\u001b[0m \u001b[32m━━━━━━━━━━━━━━━━━━━━\u001b[0m\u001b[37m\u001b[0m \u001b[1m8s\u001b[0m 5ms/step - accuracy: 0.8880 - loss: 0.3132 - val_accuracy: 0.8684 - val_loss: 0.3599\n",
      "Epoch 7/10\n",
      "\u001b[1m1719/1719\u001b[0m \u001b[32m━━━━━━━━━━━━━━━━━━━━\u001b[0m\u001b[37m\u001b[0m \u001b[1m7s\u001b[0m 4ms/step - accuracy: 0.8941 - loss: 0.2971 - val_accuracy: 0.8706 - val_loss: 0.3589\n",
      "Epoch 8/10\n",
      "\u001b[1m1719/1719\u001b[0m \u001b[32m━━━━━━━━━━━━━━━━━━━━\u001b[0m\u001b[37m\u001b[0m \u001b[1m7s\u001b[0m 4ms/step - accuracy: 0.8997 - loss: 0.2834 - val_accuracy: 0.8718 - val_loss: 0.3579\n",
      "Epoch 9/10\n",
      "\u001b[1m1719/1719\u001b[0m \u001b[32m━━━━━━━━━━━━━━━━━━━━\u001b[0m\u001b[37m\u001b[0m \u001b[1m7s\u001b[0m 4ms/step - accuracy: 0.9050 - loss: 0.2713 - val_accuracy: 0.8716 - val_loss: 0.3587\n",
      "Epoch 10/10\n",
      "\u001b[1m1719/1719\u001b[0m \u001b[32m━━━━━━━━━━━━━━━━━━━━\u001b[0m\u001b[37m\u001b[0m \u001b[1m8s\u001b[0m 4ms/step - accuracy: 0.9091 - loss: 0.2605 - val_accuracy: 0.8728 - val_loss: 0.3595\n"
     ]
    }
   ],
   "source": [
    "lr_schedule = tf.keras.optimizers.schedules.InverseTimeDecay(\n",
    "    initial_learning_rate = 0.01,\n",
    "    decay_steps = 10_000,\n",
    "    decay_rate = 1,\n",
    "    staircase = False\n",
    ")\n",
    "optimizer = tf.keras.optimizers.SGD(learning_rate = lr_schedule)\n",
    "histoty = build_and_train_model(optimizer)"
   ]
  },
  {
   "cell_type": "markdown",
   "id": "2a9b2476-1d3f-45d8-ab86-1c02b51d82f0",
   "metadata": {},
   "source": [
    "## ExponentialDecay"
   ]
  },
  {
   "cell_type": "code",
   "execution_count": 151,
   "id": "6c510b8e-3152-41d0-83e8-2691cbf28709",
   "metadata": {},
   "outputs": [
    {
     "name": "stdout",
     "output_type": "stream",
     "text": [
      "Epoch 1/10\n",
      "\u001b[1m1719/1719\u001b[0m \u001b[32m━━━━━━━━━━━━━━━━━━━━\u001b[0m\u001b[37m\u001b[0m \u001b[1m9s\u001b[0m 4ms/step - accuracy: 0.5158 - loss: 1.4842 - val_accuracy: 0.7802 - val_loss: 0.6650\n",
      "Epoch 2/10\n",
      "\u001b[1m1719/1719\u001b[0m \u001b[32m━━━━━━━━━━━━━━━━━━━━\u001b[0m\u001b[37m\u001b[0m \u001b[1m6s\u001b[0m 4ms/step - accuracy: 0.7606 - loss: 0.7088 - val_accuracy: 0.8122 - val_loss: 0.5534\n",
      "Epoch 3/10\n",
      "\u001b[1m1719/1719\u001b[0m \u001b[32m━━━━━━━━━━━━━━━━━━━━\u001b[0m\u001b[37m\u001b[0m \u001b[1m8s\u001b[0m 5ms/step - accuracy: 0.7892 - loss: 0.6078 - val_accuracy: 0.8238 - val_loss: 0.5049\n",
      "Epoch 4/10\n",
      "\u001b[1m1719/1719\u001b[0m \u001b[32m━━━━━━━━━━━━━━━━━━━━\u001b[0m\u001b[37m\u001b[0m \u001b[1m8s\u001b[0m 5ms/step - accuracy: 0.8060 - loss: 0.5558 - val_accuracy: 0.8312 - val_loss: 0.4755\n",
      "Epoch 5/10\n",
      "\u001b[1m1719/1719\u001b[0m \u001b[32m━━━━━━━━━━━━━━━━━━━━\u001b[0m\u001b[37m\u001b[0m \u001b[1m8s\u001b[0m 5ms/step - accuracy: 0.8181 - loss: 0.5213 - val_accuracy: 0.8386 - val_loss: 0.4558\n",
      "Epoch 6/10\n",
      "\u001b[1m1719/1719\u001b[0m \u001b[32m━━━━━━━━━━━━━━━━━━━━\u001b[0m\u001b[37m\u001b[0m \u001b[1m7s\u001b[0m 4ms/step - accuracy: 0.8271 - loss: 0.4961 - val_accuracy: 0.8442 - val_loss: 0.4416\n",
      "Epoch 7/10\n",
      "\u001b[1m1719/1719\u001b[0m \u001b[32m━━━━━━━━━━━━━━━━━━━━\u001b[0m\u001b[37m\u001b[0m \u001b[1m8s\u001b[0m 5ms/step - accuracy: 0.8337 - loss: 0.4761 - val_accuracy: 0.8458 - val_loss: 0.4302\n",
      "Epoch 8/10\n",
      "\u001b[1m1719/1719\u001b[0m \u001b[32m━━━━━━━━━━━━━━━━━━━━\u001b[0m\u001b[37m\u001b[0m \u001b[1m7s\u001b[0m 4ms/step - accuracy: 0.8403 - loss: 0.4596 - val_accuracy: 0.8488 - val_loss: 0.4211\n",
      "Epoch 9/10\n",
      "\u001b[1m1719/1719\u001b[0m \u001b[32m━━━━━━━━━━━━━━━━━━━━\u001b[0m\u001b[37m\u001b[0m \u001b[1m6s\u001b[0m 3ms/step - accuracy: 0.8454 - loss: 0.4454 - val_accuracy: 0.8508 - val_loss: 0.4138\n",
      "Epoch 10/10\n",
      "\u001b[1m1719/1719\u001b[0m \u001b[32m━━━━━━━━━━━━━━━━━━━━\u001b[0m\u001b[37m\u001b[0m \u001b[1m6s\u001b[0m 4ms/step - accuracy: 0.8499 - loss: 0.4328 - val_accuracy: 0.8514 - val_loss: 0.4073\n"
     ]
    }
   ],
   "source": [
    "lr_schedule = tf.keras.optimizers.schedules.ExponentialDecay(\n",
    "    initial_learning_rate = 0.01,\n",
    "    decay_steps = 20_000,\n",
    "    decay_rate = 1,\n",
    "    staircase = False\n",
    ")\n",
    "optimizer = tf.keras.optimizers.SGD(learning_rate = lr_schedule)\n",
    "histoty = build_and_train_model(optimizer)"
   ]
  },
  {
   "cell_type": "markdown",
   "id": "ad0c905f-ee36-437c-a22c-fb9b01bf17d1",
   "metadata": {},
   "source": [
    "## Piecewise constant scheduling"
   ]
  },
  {
   "cell_type": "code",
   "execution_count": 158,
   "id": "fcecc500-1949-4198-85fd-dea53d5ea507",
   "metadata": {},
   "outputs": [
    {
     "name": "stdout",
     "output_type": "stream",
     "text": [
      "Epoch 1/10\n",
      "\u001b[1m1719/1719\u001b[0m \u001b[32m━━━━━━━━━━━━━━━━━━━━\u001b[0m\u001b[37m\u001b[0m \u001b[1m10s\u001b[0m 4ms/step - accuracy: 0.7369 - loss: 0.7819 - val_accuracy: 0.8474 - val_loss: 0.4185\n",
      "Epoch 2/10\n",
      "\u001b[1m1719/1719\u001b[0m \u001b[32m━━━━━━━━━━━━━━━━━━━━\u001b[0m\u001b[37m\u001b[0m \u001b[1m7s\u001b[0m 4ms/step - accuracy: 0.8427 - loss: 0.4442 - val_accuracy: 0.8606 - val_loss: 0.3808\n",
      "Epoch 3/10\n",
      "\u001b[1m1719/1719\u001b[0m \u001b[32m━━━━━━━━━━━━━━━━━━━━\u001b[0m\u001b[37m\u001b[0m \u001b[1m6s\u001b[0m 4ms/step - accuracy: 0.8620 - loss: 0.3839 - val_accuracy: 0.8704 - val_loss: 0.3579\n",
      "Epoch 4/10\n",
      "\u001b[1m1719/1719\u001b[0m \u001b[32m━━━━━━━━━━━━━━━━━━━━\u001b[0m\u001b[37m\u001b[0m \u001b[1m8s\u001b[0m 4ms/step - accuracy: 0.8800 - loss: 0.3390 - val_accuracy: 0.8732 - val_loss: 0.3534\n",
      "Epoch 5/10\n",
      "\u001b[1m1719/1719\u001b[0m \u001b[32m━━━━━━━━━━━━━━━━━━━━\u001b[0m\u001b[37m\u001b[0m \u001b[1m7s\u001b[0m 4ms/step - accuracy: 0.8872 - loss: 0.3204 - val_accuracy: 0.8746 - val_loss: 0.3507\n",
      "Epoch 6/10\n",
      "\u001b[1m1719/1719\u001b[0m \u001b[32m━━━━━━━━━━━━━━━━━━━━\u001b[0m\u001b[37m\u001b[0m \u001b[1m7s\u001b[0m 4ms/step - accuracy: 0.8925 - loss: 0.3046 - val_accuracy: 0.8744 - val_loss: 0.3502\n",
      "Epoch 7/10\n",
      "\u001b[1m1719/1719\u001b[0m \u001b[32m━━━━━━━━━━━━━━━━━━━━\u001b[0m\u001b[37m\u001b[0m \u001b[1m7s\u001b[0m 4ms/step - accuracy: 0.8971 - loss: 0.2900 - val_accuracy: 0.8764 - val_loss: 0.3503\n",
      "Epoch 8/10\n",
      "\u001b[1m1719/1719\u001b[0m \u001b[32m━━━━━━━━━━━━━━━━━━━━\u001b[0m\u001b[37m\u001b[0m \u001b[1m6s\u001b[0m 3ms/step - accuracy: 0.9032 - loss: 0.2765 - val_accuracy: 0.8734 - val_loss: 0.3505\n",
      "Epoch 9/10\n",
      "\u001b[1m1719/1719\u001b[0m \u001b[32m━━━━━━━━━━━━━━━━━━━━\u001b[0m\u001b[37m\u001b[0m \u001b[1m6s\u001b[0m 4ms/step - accuracy: 0.9071 - loss: 0.2639 - val_accuracy: 0.8728 - val_loss: 0.3516\n",
      "Epoch 10/10\n",
      "\u001b[1m1719/1719\u001b[0m \u001b[32m━━━━━━━━━━━━━━━━━━━━\u001b[0m\u001b[37m\u001b[0m \u001b[1m6s\u001b[0m 4ms/step - accuracy: 0.9123 - loss: 0.2516 - val_accuracy: 0.8732 - val_loss: 0.3528\n"
     ]
    }
   ],
   "source": [
    "lr_schedule = tf.keras.optimizers.schedules.PiecewiseConstantDecay(\n",
    "    boundaries = [50_00,80_000],\n",
    "    values = [0.01,0.005,0.001]\n",
    ")\n",
    "optimizer = tf.keras.optimizers.SGD(learning_rate = lr_schedule)\n",
    "history_piecewise = build_and_train_model(optimizer)"
   ]
  },
  {
   "cell_type": "markdown",
   "id": "8c7d14d7-d42f-47a0-9515-c9e90644b62f",
   "metadata": {},
   "source": [
    "# Avoiding Overfiting"
   ]
  },
  {
   "cell_type": "markdown",
   "id": "09028e15-65e6-4737-8fba-ce0ee9cac05f",
   "metadata": {},
   "source": [
    "## ℓ1 and ℓ2 Regularization"
   ]
  },
  {
   "cell_type": "code",
   "execution_count": 165,
   "id": "86b3bb04-bb90-4253-b716-890ef28f8ddf",
   "metadata": {},
   "outputs": [],
   "source": [
    "layers = tf.keras.layers.Dense(100,activation = 'relu',\n",
    "                              kernel_initializer = 'he_normal',\n",
    "                              kernel_regularizer = tf.keras.regularizers.l2(0.01))"
   ]
  },
  {
   "cell_type": "code",
   "execution_count": 171,
   "id": "a26a2399-9c9b-48e7-ab53-a77a07aa044b",
   "metadata": {},
   "outputs": [],
   "source": [
    "tf.random.set_seed(42)"
   ]
  },
  {
   "cell_type": "code",
   "execution_count": 185,
   "id": "e3981c02-563d-4474-a90f-ca286c4a45ef",
   "metadata": {},
   "outputs": [
    {
     "name": "stderr",
     "output_type": "stream",
     "text": [
      "C:\\Users\\aqili\\AppData\\Local\\anaconda3\\Lib\\site-packages\\keras\\src\\layers\\reshaping\\flatten.py:37: UserWarning: Do not pass an `input_shape`/`input_dim` argument to a layer. When using Sequential models, prefer using an `Input(shape)` object as the first layer in the model instead.\n",
      "  super().__init__(**kwargs)\n"
     ]
    },
    {
     "name": "stdout",
     "output_type": "stream",
     "text": [
      "Epoch 1/2\n",
      "\u001b[1m1719/1719\u001b[0m \u001b[32m━━━━━━━━━━━━━━━━━━━━\u001b[0m\u001b[37m\u001b[0m \u001b[1m6s\u001b[0m 3ms/step - accuracy: 0.7198 - loss: 4.1198 - val_accuracy: 0.8262 - val_loss: 1.8791\n",
      "Epoch 2/2\n",
      "\u001b[1m1719/1719\u001b[0m \u001b[32m━━━━━━━━━━━━━━━━━━━━\u001b[0m\u001b[37m\u001b[0m \u001b[1m5s\u001b[0m 3ms/step - accuracy: 0.8146 - loss: 1.6363 - val_accuracy: 0.8246 - val_loss: 1.1240\n"
     ]
    }
   ],
   "source": [
    "from functools import partial\n",
    "\n",
    "RegularizeDense = partial(tf.keras.layers.Dense,\n",
    "                         activation = 'relu',\n",
    "                         kernel_initializer = 'he_normal',\n",
    "                         kernel_regularizer = tf.keras.regularizers.l2(0.01))\n",
    "\n",
    "model = tf.keras.Sequential([\n",
    "    tf.keras.layers.Flatten(input_shape = [28,28]),\n",
    "    RegularizeDense(100),\n",
    "    RegularizeDense(100),\n",
    "    RegularizeDense(10,activation = 'softmax')\n",
    "])\n",
    "\n",
    "model.compile(loss = 'sparse_categorical_crossentropy',\n",
    "             optimizer = tf.keras.optimizers.SGD(learning_rate = 0.02),\n",
    "             metrics = ['accuracy'])\n",
    "\n",
    "histrory = model.fit(X_train,y_train,epochs =2,\n",
    "                    validation_data = (X_valid,y_valid))"
   ]
  },
  {
   "cell_type": "markdown",
   "id": "e1d241b5-87b8-45dc-b10b-1c17b36d070e",
   "metadata": {},
   "source": [
    "## Dropout"
   ]
  },
  {
   "cell_type": "code",
   "execution_count": 193,
   "id": "1c1c48a0-e7c2-46f4-93fd-697fb37ac472",
   "metadata": {},
   "outputs": [
    {
     "name": "stdout",
     "output_type": "stream",
     "text": [
      "Epoch 1/10\n",
      "\u001b[1m1719/1719\u001b[0m \u001b[32m━━━━━━━━━━━━━━━━━━━━\u001b[0m\u001b[37m\u001b[0m \u001b[1m6s\u001b[0m 3ms/step - accuracy: 0.8193 - loss: 0.8928 - val_accuracy: 0.8238 - val_loss: 0.8664\n",
      "Epoch 2/10\n",
      "\u001b[1m1719/1719\u001b[0m \u001b[32m━━━━━━━━━━━━━━━━━━━━\u001b[0m\u001b[37m\u001b[0m \u001b[1m10s\u001b[0m 3ms/step - accuracy: 0.8200 - loss: 0.8793 - val_accuracy: 0.8238 - val_loss: 0.8601\n",
      "Epoch 3/10\n",
      "\u001b[1m1719/1719\u001b[0m \u001b[32m━━━━━━━━━━━━━━━━━━━━\u001b[0m\u001b[37m\u001b[0m \u001b[1m5s\u001b[0m 3ms/step - accuracy: 0.8199 - loss: 0.8732 - val_accuracy: 0.8250 - val_loss: 0.8566\n",
      "Epoch 4/10\n",
      "\u001b[1m1719/1719\u001b[0m \u001b[32m━━━━━━━━━━━━━━━━━━━━\u001b[0m\u001b[37m\u001b[0m \u001b[1m5s\u001b[0m 3ms/step - accuracy: 0.8195 - loss: 0.8694 - val_accuracy: 0.8242 - val_loss: 0.8543\n",
      "Epoch 5/10\n",
      "\u001b[1m1719/1719\u001b[0m \u001b[32m━━━━━━━━━━━━━━━━━━━━\u001b[0m\u001b[37m\u001b[0m \u001b[1m4s\u001b[0m 3ms/step - accuracy: 0.8198 - loss: 0.8665 - val_accuracy: 0.8248 - val_loss: 0.8523\n",
      "Epoch 6/10\n",
      "\u001b[1m1719/1719\u001b[0m \u001b[32m━━━━━━━━━━━━━━━━━━━━\u001b[0m\u001b[37m\u001b[0m \u001b[1m5s\u001b[0m 3ms/step - accuracy: 0.8197 - loss: 0.8641 - val_accuracy: 0.8234 - val_loss: 0.8507\n",
      "Epoch 7/10\n",
      "\u001b[1m1719/1719\u001b[0m \u001b[32m━━━━━━━━━━━━━━━━━━━━\u001b[0m\u001b[37m\u001b[0m \u001b[1m5s\u001b[0m 3ms/step - accuracy: 0.8198 - loss: 0.8621 - val_accuracy: 0.8226 - val_loss: 0.8495\n",
      "Epoch 8/10\n",
      "\u001b[1m1719/1719\u001b[0m \u001b[32m━━━━━━━━━━━━━━━━━━━━\u001b[0m\u001b[37m\u001b[0m \u001b[1m4s\u001b[0m 2ms/step - accuracy: 0.8197 - loss: 0.8605 - val_accuracy: 0.8224 - val_loss: 0.8483\n",
      "Epoch 9/10\n",
      "\u001b[1m1719/1719\u001b[0m \u001b[32m━━━━━━━━━━━━━━━━━━━━\u001b[0m\u001b[37m\u001b[0m \u001b[1m5s\u001b[0m 3ms/step - accuracy: 0.8197 - loss: 0.8590 - val_accuracy: 0.8224 - val_loss: 0.8473\n",
      "Epoch 10/10\n",
      "\u001b[1m1719/1719\u001b[0m \u001b[32m━━━━━━━━━━━━━━━━━━━━\u001b[0m\u001b[37m\u001b[0m \u001b[1m6s\u001b[0m 3ms/step - accuracy: 0.8197 - loss: 0.8578 - val_accuracy: 0.8228 - val_loss: 0.8464\n"
     ]
    }
   ],
   "source": [
    "mode = tf.keras.Sequential([\n",
    "    tf.keras.layers.Flatten(input_shape = [28,28]),\n",
    "    tf.keras.layers.Dropout(rate = 0.2),\n",
    "    tf.keras.layers.Dense(100,activation = 'relu',\n",
    "                         kernel_initializer = 'he_normal'),\n",
    "    tf.keras.layers.Dropout(rate = 0.2),\n",
    "    tf.keras.layers.Dense(100,activation = 'relu',\n",
    "                         kernel_initializer = 'he_normal'),\n",
    "    tf.keras.layers.Dropout(rate = 0.2),\n",
    "    tf.keras.layers.Dense(100,activation = 'relu',\n",
    "                         kernel_initializer = 'he_normal'),\n",
    "    tf.keras.layers.Dropout(rate = 0.2),\n",
    "    tf.keras.layers.Dense(10,activation = 'softmax')\n",
    "])\n",
    "\n",
    "model.compile(loss = 'sparse_categorical_crossentropy',\n",
    "             optimizer = tf.keras.optimizers.SGD(learning_rate = 0.02),\n",
    "             metrics = ['accuracy'])\n",
    "\n",
    "histrory = model.fit(X_train,y_train,epochs =10,\n",
    "                    validation_data = (X_valid,y_valid))"
   ]
  },
  {
   "cell_type": "code",
   "execution_count": 194,
   "id": "45d2eddb-13b2-4438-89ca-56e01c311e4e",
   "metadata": {},
   "outputs": [
    {
     "name": "stdout",
     "output_type": "stream",
     "text": [
      "\u001b[1m1719/1719\u001b[0m \u001b[32m━━━━━━━━━━━━━━━━━━━━\u001b[0m\u001b[37m\u001b[0m \u001b[1m3s\u001b[0m 2ms/step - accuracy: 0.8273 - loss: 0.8465\n"
     ]
    },
    {
     "data": {
      "text/plain": [
       "[0.8489376306533813, 0.8253818154335022]"
      ]
     },
     "execution_count": 194,
     "metadata": {},
     "output_type": "execute_result"
    }
   ],
   "source": [
    "model.evaluate(X_train,y_train)"
   ]
  },
  {
   "cell_type": "markdown",
   "id": "43eaac34-1c9e-4052-8385-6c4628dd45f8",
   "metadata": {},
   "source": [
    "## MC Dropout"
   ]
  },
  {
   "cell_type": "code",
   "execution_count": 208,
   "id": "e866993e-5290-4889-b9e7-8000629705ad",
   "metadata": {},
   "outputs": [
    {
     "data": {
      "text/plain": [
       "array([[1.5976126e-03, 1.6145157e-03, 1.1288245e-03, ..., 3.3341634e-01,\n",
       "        3.0063409e-02, 2.9054248e-01],\n",
       "       [3.7417712e-03, 6.3227868e-04, 8.4106451e-01, ..., 1.3219779e-06,\n",
       "        1.5907229e-03, 4.9929917e-05],\n",
       "       [3.3810723e-04, 9.9560487e-01, 7.3681021e-04, ..., 1.9620005e-04,\n",
       "        1.8683920e-06, 2.4765272e-05],\n",
       "       ...,\n",
       "       [7.4169666e-02, 9.0527046e-04, 7.2520222e-03, ..., 8.5444441e-03,\n",
       "        6.4090830e-01, 3.5498524e-03],\n",
       "       [1.4842604e-03, 9.3996185e-01, 3.3831787e-03, ..., 4.5983726e-03,\n",
       "        4.0082941e-05, 2.7504188e-04],\n",
       "       [2.8247437e-03, 4.0887664e-03, 5.7104486e-03, ..., 2.1579172e-01,\n",
       "        4.5343563e-02, 2.5630387e-02]], dtype=float32)"
      ]
     },
     "execution_count": 208,
     "metadata": {},
     "output_type": "execute_result"
    }
   ],
   "source": [
    "y_probas = np.stack([model(X_test,training = True) for sample in range(100)])   # predict edir 100 defe, np.stack sa bir yere yigir\n",
    "y_probas.mean(axis = 0)"
   ]
  },
  {
   "cell_type": "code",
   "execution_count": 212,
   "id": "f642097a-1b50-4718-979a-5f72bd5eade2",
   "metadata": {},
   "outputs": [
    {
     "name": "stdout",
     "output_type": "stream",
     "text": [
      "\u001b[1m1/1\u001b[0m \u001b[32m━━━━━━━━━━━━━━━━━━━━\u001b[0m\u001b[37m\u001b[0m \u001b[1m0s\u001b[0m 64ms/step\n"
     ]
    },
    {
     "data": {
      "text/plain": [
       "array([[0.00159761, 0.00161452, 0.00112883, 0.00124662, 0.00090978,\n",
       "        0.33834454, 0.00113604, 0.33341643, 0.03006344, 0.29054227]],\n",
       "      dtype=float32)"
      ]
     },
     "execution_count": 212,
     "metadata": {},
     "output_type": "execute_result"
    }
   ],
   "source": [
    "model.predict(X_test[:1])"
   ]
  },
  {
   "cell_type": "code",
   "execution_count": null,
   "id": "e76fc884-2769-4d0f-89db-e446c70d8211",
   "metadata": {},
   "outputs": [],
   "source": []
  },
  {
   "cell_type": "code",
   "execution_count": null,
   "id": "815a1f78-b5a3-49e6-b847-6a50a0724be0",
   "metadata": {},
   "outputs": [],
   "source": []
  }
 ],
 "metadata": {
  "kernelspec": {
   "display_name": "Python 3 (ipykernel)",
   "language": "python",
   "name": "python3"
  },
  "language_info": {
   "codemirror_mode": {
    "name": "ipython",
    "version": 3
   },
   "file_extension": ".py",
   "mimetype": "text/x-python",
   "name": "python",
   "nbconvert_exporter": "python",
   "pygments_lexer": "ipython3",
   "version": "3.11.7"
  }
 },
 "nbformat": 4,
 "nbformat_minor": 5
}
